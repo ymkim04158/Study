{
 "cells": [
  {
   "cell_type": "markdown",
   "metadata": {},
   "source": [
    "OpenCV(정식 명칭 : Open Source Computer Vision Library)은 오픈 소스 컴퓨터 비전 라이브러리\n",
    "1. 필터링\n",
    "2. 행렬 계산\n",
    "3. 객체 추적(Object Tracking)\n",
    "4. 세분화(Segmentation)\n",
    "5. 카메라 캘리브레이션(Calibration)\n",
    "6. 특징점 추출\n",
    "7. 물체 인식(Object recognition)\n",
    "8. 기계 학습(Machine learning)\n",
    "9. 파노라마(Stitching)\n",
    "10. 컴퓨터 테이 셔널 포토 그래피(Computational Photography)"
   ]
  },
  {
   "cell_type": "code",
   "execution_count": 4,
   "metadata": {},
   "outputs": [
    {
     "name": "stdout",
     "output_type": "stream",
     "text": [
      "4.5.1\n"
     ]
    }
   ],
   "source": [
    ">>> import cv2 as cv\n",
    ">>> print(cv.__version__)"
   ]
  },
  {
   "cell_type": "code",
   "execution_count": 2,
   "metadata": {},
   "outputs": [
    {
     "name": "stdout",
     "output_type": "stream",
     "text": [
      "<class 'numpy.ndarray'>\n",
      "uint8\n",
      "(256, 256, 3)\n"
     ]
    },
    {
     "data": {
      "text/plain": [
       "True"
      ]
     },
     "execution_count": 2,
     "metadata": {},
     "output_type": "execute_result"
    }
   ],
   "source": [
    "#1. 이미지 파일을 읽고, 저장 imread(), imwrite()\n",
    "from PIL import Image\n",
    "import numpy as np\n",
    "import cv2 as cv\n",
    "\n",
    "im = cv.imread('c:\\\\opencv_test\\\\Lenna.png')\n",
    "print(type(im))\n",
    "\n",
    "print(im.dtype)\n",
    "print(im.shape)  #행(높이), 열(폭), 색상(채널)\n",
    "#색상의 순서 BGR\n",
    "#im[:,:,(0,1)] = 0   0번째(B:파랑)과 1번쨰(G:초록)을 0(검정)으로 지정\n",
    "\n",
    "im[:,:,(0,1)] = 0\n",
    "\n",
    "#cv.imshow(\"Display window\",im)\n",
    "\n",
    "cv.imwrite(\"c:\\\\opencv_test\\\\cv2\\\\Lenna_b.png\",im)\n",
    "\n",
    "cv.imwrite(\"c:\\\\opencv_test\\\\cv2\\\\Lenna_b02.png\",im,[cv.IMWRITE_JPEG_QUALITY,50])\n",
    "\n",
    "cv.imwrite(\"c:\\\\opencv_test\\\\cv2\\\\Lenna_b03.png\",im,[cv.IMWRITE_JPEG_QUALITY,90])"
   ]
  },
  {
   "cell_type": "code",
   "execution_count": 9,
   "metadata": {},
   "outputs": [
    {
     "name": "stdout",
     "output_type": "stream",
     "text": [
      "<class 'numpy.ndarray'>\n",
      "uint8\n",
      "(256, 256, 3)\n",
      "(256, 256)\n",
      "float64\n"
     ]
    },
    {
     "data": {
      "text/plain": [
       "True"
      ]
     },
     "execution_count": 9,
     "metadata": {},
     "output_type": "execute_result"
    }
   ],
   "source": [
    "#그레이 스케일(흑백처리) cv.IMREAD_GRAYSCALE / cv.cvtColor()\n",
    "im = cv.imread('c:\\\\opencv_test\\\\Lenna.png')\n",
    "print(type(im))\n",
    "\n",
    "print(im.dtype)\n",
    "print(im.shape)\n",
    "\n",
    "im_gray = 0.299*im[:,:,2] + 0.587*im[:,:,1] + 0.114*im[:,:,0]\n",
    "print(im_gray.shape)\n",
    "print(im_gray.dtype)\n",
    "\n",
    "cv.imwrite(\"c:\\\\opencv_test\\\\cv2\\\\Lenna_Y.png\",im_gray)\n"
   ]
  },
  {
   "cell_type": "code",
   "execution_count": 16,
   "metadata": {},
   "outputs": [
    {
     "name": "stdout",
     "output_type": "stream",
     "text": [
      "<class 'numpy.ndarray'>\n",
      "(683, 1024)\n",
      "<class 'numpy.ndarray'>\n",
      "(683, 1024)\n",
      "10\n",
      "-8\n"
     ]
    }
   ],
   "source": [
    "#imread()\n",
    "im_gray_read = cv.imread('c:\\\\opencv_test\\\\1.jpg',cv.IMREAD_GRAYSCALE) #OS에 코덱에 따라 화소가 다르\n",
    "print(type(im_gray_read))\n",
    "print(im_gray_read.shape)\n",
    "\n",
    "im = cv.imread('c:\\\\opencv_test\\\\1.jpg')\n",
    "im_gray = cv.cvtColor(im,cv.COLOR_BGR2GRAY)  #BT.601 공식을 적용\n",
    "print(type(im_gray))\n",
    "print(im_gray.shape)\n",
    "\n",
    "#판별\n",
    "im_diff = im_gray.astype(int) - im_gray_read.astype(int)\n",
    "print(im_diff.max())\n",
    "print(im_diff.min())"
   ]
  },
  {
   "cell_type": "code",
   "execution_count": null,
   "metadata": {},
   "outputs": [],
   "source": [
    "#4. 이미지 결합 세로연결, 가로연결, 세로가로 바둑판 연결\n",
    "\n",
    "#cv.vconcat()\n",
    "#1. 폭이 동일한 이미지를 세로로 연결\n",
    "#2. 같은 이미지를 반복세로 연결\n",
    "#3. 폭이 서로 다른 이미지를 세로로 연결\n",
    "\n",
    "# cv.hconcat()\n",
    "#1. 높이가 동일한 이미지를 가로로 연결\n",
    "#2. 같은 이미지를 반복 가로로 연결\n",
    "#3. 높이가 서로 다른 이미지를 가로로 연결\n",
    "\n",
    "# np.tile() : 같은 이미지를 반복정렬"
   ]
  },
  {
   "cell_type": "code",
   "execution_count": 23,
   "metadata": {},
   "outputs": [
    {
     "data": {
      "text/plain": [
       "True"
      ]
     },
     "execution_count": 23,
     "metadata": {},
     "output_type": "execute_result"
    }
   ],
   "source": [
    "#cv.vconcat()\n",
    "#1. 같은 이미지를 세로로 연결\n",
    "import cv2 as cv\n",
    "import numpy as np\n",
    "\n",
    "im1 = cv.imread('c:\\\\opencv_test\\\\Lenna.png')\n",
    "im2 = cv.imread('c:\\\\opencv_test\\\\1.jpg')\n",
    "\n",
    "im_v = cv.vconcat([im1,im1])\n",
    "cv.imwrite(\"c:\\\\opencv_test\\\\cv2\\\\v_img.jpg\",im_v)\n",
    "\n",
    "im_v02 = np.tile(im1,(2,1,1))\n",
    "cv.imwrite(\"c:\\\\opencv_test\\\\cv2\\\\v02_img.jpg\",im_v02)"
   ]
  },
  {
   "cell_type": "code",
   "execution_count": 26,
   "metadata": {},
   "outputs": [
    {
     "data": {
      "text/plain": [
       "True"
      ]
     },
     "execution_count": 26,
     "metadata": {},
     "output_type": "execute_result"
    }
   ],
   "source": [
    "\n",
    "import cv2 as cv\n",
    "import numpy as np\n",
    "\n",
    "im1 = cv.imread('c:\\\\opencv_test\\\\Lenna.png')\n",
    "im2 = cv.imread('c:\\\\opencv_test\\\\1.jpg')\n",
    "\n",
    "#함수선언 resize(src, dsize[, dst[,fx[,fy[ interpolation]]]])\n",
    "def my_resize(im_list,interpolation = cv.INTER_CUBIC):\n",
    "    #1. 폭이 가장 작은 값을 리턴 받자.\n",
    "    w_min = min(im.shape[1] for im in im_list)\n",
    "    \n",
    "    #2. 폭의 사이즈를 재조정\n",
    "    im_list_resize = [cv.resize(im,(w_min,int(im.shape[0]*w_min/im.shape[1])),\n",
    "                                interpolation=interpolation) for im in im_list]\n",
    "    \n",
    "    return cv.vconcat(im_list_resize) #결합해서 리턴\n",
    "\n",
    "im_v = my_resize([im1,im2,im1])\n",
    "\n",
    "cv.imwrite(\"c:\\\\opencv_test\\\\cv2\\\\v_img_resize.jpg\",im_v)\n"
   ]
  },
  {
   "cell_type": "code",
   "execution_count": 29,
   "metadata": {},
   "outputs": [
    {
     "data": {
      "text/plain": [
       "True"
      ]
     },
     "execution_count": 29,
     "metadata": {},
     "output_type": "execute_result"
    }
   ],
   "source": [
    "\n",
    "import cv2 as cv\n",
    "import numpy as np\n",
    "\n",
    "im1 = cv.imread('c:\\\\opencv_test\\\\Lenna.png')\n",
    "im2 = cv.imread('c:\\\\opencv_test\\\\1.jpg')\n",
    "\n",
    "#함수선언 resize(src, dsize[, dst[,fx[,fy[ interpolation]]]])\n",
    "def my_hresize(im_list,interpolation = cv.INTER_CUBIC):\n",
    "    #1. 높이가 가장 작은 값을 리턴 받자.\n",
    "    h_min = min(im.shape[0] for im in im_list)\n",
    "    \n",
    "    #2. 폭의 사이즈를 재조정\n",
    "    im_list_resize = [cv.resize(im,(int(im.shape[1]*h_min/im.shape[0]),h_min),\n",
    "                                interpolation=interpolation) for im in im_list]\n",
    "    \n",
    "    return cv.hconcat(im_list_resize) #결합해서 리턴\n",
    "\n",
    "im_h = my_hresize([im1,im2,im1])\n",
    "\n",
    "cv.imwrite(\"c:\\\\opencv_test\\\\cv2\\\\h_img_resize.jpg\",im_h)\n"
   ]
  },
  {
   "cell_type": "code",
   "execution_count": 32,
   "metadata": {},
   "outputs": [
    {
     "data": {
      "text/plain": [
       "True"
      ]
     },
     "execution_count": 32,
     "metadata": {},
     "output_type": "execute_result"
    }
   ],
   "source": [
    "#바둑판식 타일형을 만들어 보자.\n",
    "import cv2 as cv\n",
    "import numpy as np\n",
    "\n",
    "image = cv.imread('c:\\\\opencv_test\\\\Lenna.png')\n",
    "\n",
    "def my_tile(im_list_2d):\n",
    "    return cv.vconcat([cv.hconcat(im_list_h) for im_list_h in im_list_2d])\n",
    "\n",
    "\n",
    "im1 = cv.resize(image,dsize=(0,0),fx=0.5,fy=0.5) #fx = 수평측 비율            fy = 수직측 비율\n",
    "\n",
    "im_tile = my_tile([[im1,im1,im1,im1],\n",
    "                   [im1,im1,im1,im1],\n",
    "                   [im1,im1,im1,im1]])\n",
    "\n",
    "cv.imwrite(\"c:\\\\opencv_test\\\\cv2\\\\tile_img.jpg\",im_tile)\n"
   ]
  },
  {
   "cell_type": "code",
   "execution_count": 37,
   "metadata": {},
   "outputs": [
    {
     "name": "stdout",
     "output_type": "stream",
     "text": [
      "(256, 256, 3)\n"
     ]
    },
    {
     "data": {
      "text/plain": [
       "True"
      ]
     },
     "execution_count": 37,
     "metadata": {},
     "output_type": "execute_result"
    }
   ],
   "source": [
    "#이미지회전 cv.rotate(ndarray,rotatecode), np.rot90\n",
    "#상하 좌우 반전 cv.flip(ndarray,flipcode), np.flip()\n",
    "#flipcode = 0 : 상하반전\n",
    "#flipcode > 0 : 좌우반전\n",
    "#flipcode < 0 : 상하좌우반전\n",
    "\n",
    "image = cv.imread('c:\\\\opencv_test\\\\Lenna.png')\n",
    "print(image.shape)\n",
    "\n",
    "#img_r_90 = cv.rotate(image, cv.ROTATE_90_CLOCKWISE)\n",
    "#cv.imwrite(\"c:\\\\opencv_test\\\\cv2\\\\Lenna_90_img.jpg\",img_r_90)\n",
    "\n",
    "img_flip_ud = cv.flip(image, 0)\n",
    "cv.imwrite(\"c:\\\\opencv_test\\\\cv2\\\\Lenna_ud_img.jpg\",img_flip_ud)\n",
    "\n",
    "img_flip_lr = cv.flip(image, 1)\n",
    "cv.imwrite(\"c:\\\\opencv_test\\\\cv2\\\\Lenna_lr_img.jpg\",img_flip_lr)\n",
    "\n",
    "img_flip_udlr = cv.flip(image, -1)\n",
    "cv.imwrite(\"c:\\\\opencv_test\\\\cv2\\\\Lenna_udlr_img.jpg\",img_flip_udlr)"
   ]
  }
 ],
 "metadata": {
  "kernelspec": {
   "display_name": "Python 3",
   "language": "python",
   "name": "python3"
  },
  "language_info": {
   "codemirror_mode": {
    "name": "ipython",
    "version": 3
   },
   "file_extension": ".py",
   "mimetype": "text/x-python",
   "name": "python",
   "nbconvert_exporter": "python",
   "pygments_lexer": "ipython3",
   "version": "3.8.5"
  }
 },
 "nbformat": 4,
 "nbformat_minor": 4
}
