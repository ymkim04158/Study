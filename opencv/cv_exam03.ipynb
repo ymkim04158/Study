{
 "cells": [
  {
   "cell_type": "code",
   "execution_count": null,
   "metadata": {},
   "outputs": [],
   "source": [
    "화소처리 _ 이미지, 영상화소 / 밝기 변환 / 히스토그램 / 컬러공간\n",
    "\n",
    "2D : 2차원 데이터 행렬 연산 -> 화소추출 / 값 / 수정 / 새로운 화소를 추가 할 수 있다.\n"
   ]
  },
  {
   "cell_type": "code",
   "execution_count": 3,
   "metadata": {},
   "outputs": [
    {
     "name": "stdout",
     "output_type": "stream",
     "text": [
      "원본데이터 : \n",
      " [[0 1 2 3 4]\n",
      " [5 6 7 8 9]] <class 'int'> <class 'int'> <class 'numpy.ndarray'>\n",
      "요소값 변경 후 : \n",
      "[[ 0  2  4  6  8]\n",
      " [10 12 14 16 18]] \n",
      "\n"
     ]
    }
   ],
   "source": [
    "#8)화소처리 _ 이미지 영상화소를 위한 2D 추출 후 변환\n",
    "import cv2\n",
    "import numpy as np\n",
    "\n",
    "def mysu_res(mysu_r):  # mysu_r = mysu\n",
    "    for i in range(mysu_r.shape[0]): #행 추출\n",
    "        for j in range(mysu_r.shape[1]): #열 추출\n",
    "            res_value = mysu_r.item(i,j) #요소를 접근\n",
    "            mysu_r.itemset((i,j),res_value*2) #원소의 값을 연산후 재대입\n",
    "\n",
    "mysu = np.arange(10).reshape(2,5)  #---> mysu.shape[0]행, mysu.shape[1]열\n",
    "print(\"원본데이터 : \\n\",mysu, type(mysu.shape[0]),type(mysu.shape[1]), type(mysu))\n",
    "\n",
    "mysu_res(mysu)\n",
    "print(\"요소값 변경 후 : \\n%s \\n\"%mysu)"
   ]
  },
  {
   "cell_type": "code",
   "execution_count": 7,
   "metadata": {},
   "outputs": [
    {
     "name": "stdout",
     "output_type": "stream",
     "text": [
      "[case 1] : image read 수행시간 체크 : 177.15 ms\n",
      "[case 2] : image item() 수행시간 체크 : 21.01 ms\n",
      "[case 3] : 룩업테이블 수행시간 체크 : 0.43 ms\n",
      "[case 4] : opencv 수행시간 체크 : 0.04 ms\n",
      "[case 5] : ndarray 수행시간 체크 : 0.05 ms\n"
     ]
    }
   ],
   "source": [
    "#8-1) 수행 시간을 체크해보자.\n",
    "import cv2\n",
    "import numpy as np\n",
    "import time\n",
    "\n",
    "# 3. 시간을 체크하는 함수\n",
    "def time_check(func, message):\n",
    "    start_time = time.perf_counter()\n",
    "    ret_img = func(image)\n",
    "    res_time = (time.perf_counter() - start_time)*1000\n",
    "    print(message,\"수행시간 체크 : %.2f ms\"% res_time)\n",
    "    return ret_img\n",
    "\n",
    "# 2. 이미지의 화소를 그대로 읽어서 리턴받는 함수\n",
    "def img_access01(image):\n",
    "    img_res = np.zeros(image.shape[:2], image.dtype)\n",
    "    for i in range(image.shape[0]): #행 추출\n",
    "        for j in range(image.shape[1]): #열 추출\n",
    "            pixel = image[i,j]  #원본이미지의 화소를 추출해서 pixel 저장\n",
    "            img_res[i,j] = 255-pixel  #화소를 대입\n",
    "    return img_res\n",
    "\n",
    "# 2. 이미지의 화소를 item() 방식으로 접근\n",
    "def img_access02(image):\n",
    "    img_res = np.zeros(image.shape[:2], image.dtype)\n",
    "    for i in range(image.shape[0]): #행 추출\n",
    "        for j in range(image.shape[1]): #열 추출\n",
    "            pixel = image.item(i,j)  #원본이미지의 화소를 추출해서 pixel 저장\n",
    "            img_res.itemset((i,j), 255-pixel)  #화소를 대입\n",
    "    return img_res\n",
    "    \n",
    "#2-3 \n",
    "def img_access03(image):\n",
    "    lookup = [255-i for i in range(256)]\n",
    "    lookup = np.array(lookup, np.uint8)\n",
    "    res_img = lookup[image]\n",
    "    return res_img\n",
    "    \n",
    "#2-4 opencv\n",
    "def img_access04(image):\n",
    "    res_img = cv2.subtract(255,image)\n",
    "    return res_img\n",
    "\n",
    "#2-5 mdarrau\n",
    "def img_access05(image):\n",
    "    res_img = 255-image\n",
    "    return res_img\n",
    "\n",
    "# 1. 이미지를 호출\n",
    "image = cv2.imread('c:\\\\opencv_test\\\\Lenna.png',cv2.IMREAD_GRAYSCALE)\n",
    "if image is None : raise Exception(\"파일 오류\")\n",
    "    \n",
    "\n",
    "\n",
    "# 4. 내용을 확인\n",
    "image1 = time_check(img_access01,\"[case 1] : image read\")\n",
    "image2 = time_check(img_access02,\"[case 2] : image item()\")\n",
    "image3 = time_check(img_access03,\"[case 3] : 룩업테이블\")\n",
    "image4 = time_check(img_access04,\"[case 4] : opencv\")\n",
    "image5 = time_check(img_access05,\"[case 5] : ndarray\")\n",
    "cv2.imshow(\"원본 image\", image)\n",
    "cv2.imshow(\"직접 접근 image\", image1)\n",
    "cv2.imshow(\"item() 접근 image\", image2)\n",
    "cv2.imshow(\"lookup image\", image3)\n",
    "cv2.imshow(\"opencv\", image4)\n",
    "cv2.imshow(\"ndarray\", image5)\n",
    "\n",
    "\n",
    "cv2.waitKey(0)\n",
    "cv2.destroyAllWindows()"
   ]
  },
  {
   "cell_type": "code",
   "execution_count": 10,
   "metadata": {},
   "outputs": [],
   "source": [
    "#8-2) 화소값 체크\n",
    "import numpy as np, cv2\n",
    "\n",
    "#img = np.zeros((50,512), np.uint8)\n",
    "#img02 = np.zeros((50,512), np.uint8)\n",
    "\n",
    "#? 흑백으로 가져와야해 ? RGB -> 흑백 -> 휘도 신호, BR.601 YUV\n",
    "#y = 0.299*R + 0.587 * G + 0.144*B\n",
    "#BGR => CV2\n",
    "\n",
    "#cv2.cvtColor() / cv2.COLOR_BGR2GRAY\n",
    "\n",
    "img = cv2.imread('c:\\\\opencv_test\\\\Lenna.png',cv2.IMREAD_GRAYSCALE)\n",
    "img02 = cv2.imread('c:\\\\opencv_test\\\\Lenna.png',cv2.IMREAD_GRAYSCALE)\n",
    "\n",
    "row, col = img.shape[:2]\n",
    "\n",
    "#행열로 화소값 나열 후 확인\n",
    "for i in range(row):\n",
    "    for j in range(col):\n",
    "        img.itemset((i,j),j//2) #화소의 점진적 증가값 확인\n",
    "        img02.itemset((i,j),j//20*10) #화소의 계단식\n",
    "\n",
    "cv2.imshow(\"img\",img)\n",
    "cv2.imshow(\"img02\", img02)\n",
    "        \n",
    "cv2.waitKey(0)\n",
    "cv2.destroyAllWindows()"
   ]
  },
  {
   "cell_type": "code",
   "execution_count": 12,
   "metadata": {},
   "outputs": [],
   "source": [
    "#8-2) 화소값 체크\n",
    "import numpy as np, cv2\n",
    "\n",
    "img = cv2.imread('c:\\\\opencv_test\\\\Lenna.png',cv2.IMREAD_GRAYSCALE)\n",
    "\n",
    "#opencv 함수를 이용해서 영상을 밝게  0~255\n",
    "res_img = cv2.add(img,100)   #250+100 = 350 -> 255 :saturation 방식\n",
    "#opencv 함수를 이용해서 영상을 어둡게\n",
    "res_img02 = cv2.subtract(img, 100)\n",
    "\n",
    "#numpy 연산\n",
    "res_img03 = img +100  # 250+100 = 350%256 -> 104 : moduler 방식\n",
    "res_img04 = img -100\n",
    "\n",
    "\n",
    "\n",
    "cv2.imshow(\"img\",img)\n",
    "cv2.imshow(\"res_img\",res_img)\n",
    "cv2.imshow(\"res_img02\",res_img02)\n",
    "cv2.imshow(\"res_img03\",res_img03)\n",
    "cv2.imshow(\"res_img04\",res_img04)\n",
    "        \n",
    "cv2.waitKey(0)\n",
    "cv2.destroyAllWindows()"
   ]
  },
  {
   "cell_type": "raw",
   "metadata": {},
   "source": [
    "9) 명암대비 \n",
    "cv2.scaleAdd(src1, alpha, src2[,dst]) -> dst 영상대비로 이미지 조절\n",
    "cv2. addWeighted(src1,alpha,src2,beta,gamma[,dst[,dtype]]) -> dst  : 명암 조절"
   ]
  },
  {
   "cell_type": "code",
   "execution_count": 18,
   "metadata": {},
   "outputs": [
    {
     "name": "stdout",
     "output_type": "stream",
     "text": [
      "63.22041287289532\n"
     ]
    }
   ],
   "source": [
    "import numpy as np, cv2\n",
    "img = cv2.imread('c:\\\\opencv_test\\\\1.jpg',cv2.IMREAD_GRAYSCALE)\n",
    "\n",
    "n_img = np.zeros(img.shape[:2], img.dtype)  # 더미 이미지 생성\n",
    "\n",
    "r_img = cv2.scaleAdd(img,0.5,n_img) + 10 #영상대비 감소\n",
    "r_img02 = cv2.scaleAdd(img,2.0,n_img)  #영상대비 증가\n",
    "\n",
    "#영상화소의 평균값의 절반정도 계산\n",
    "m_res = cv2.mean(img)[0]/2.0\n",
    "print(m_res)\n",
    "r_img03 = cv2.addWeighted(img,0.5,n_img,0,m_res) + 10 #명암대비 감소\n",
    "r_img04 = cv2.addWeighted(img,2.0,n_img,0,m_res)  #명암대비 증가\n",
    "\n",
    "cv2.imshow(\"img\",img)\n",
    "cv2.imshow(\"r_img\",r_img)\n",
    "cv2.imshow(\"r_img02\",r_img02)\n",
    "cv2.imshow(\"r_img03\",r_img03)\n",
    "cv2.imshow(\"r_img04\",r_img04)\n",
    "        \n",
    "cv2.waitKey(0)\n",
    "cv2.destroyAllWindows()"
   ]
  },
  {
   "cell_type": "raw",
   "metadata": {},
   "source": [
    "9) 히스토그램을 사용해보자 [ 계산, opencv함수, 스트레칭, 평활화]\n",
    "  calcHist(images, channels, mask, histSize,ranges[, hist[,accumulate]]) -> hist\n",
    "channels, : 히스토그램에 사용할 수 있는 차원목록\n",
    "mask : 특정영역만 계산 하기 위한 행렬 - images 같은 크기의 8bit 배열\n",
    "histSize : 히스토그램 배열의 크기\n",
    "ranges[, hist[, accumulate : 누적플래그값(여러 배열의 단일 히스토그램 값을 리턴 할때 사용)]\n"
   ]
  },
  {
   "cell_type": "code",
   "execution_count": 20,
   "metadata": {},
   "outputs": [
    {
     "data": {
      "text/plain": [
       "[<matplotlib.lines.Line2D at 0x1b7bb05b760>]"
      ]
     },
     "execution_count": 20,
     "metadata": {},
     "output_type": "execute_result"
    },
    {
     "data": {
      "image/png": "[encoded data removed]",
      "text/plain": [
       "<Figure size 432x288 with 1 Axes>"
      ]
     },
     "metadata": {
      "needs_background": "light"
     },
     "output_type": "display_data"
    }
   ],
   "source": [
    "import cv2\n",
    "import numpy as np\n",
    "import matplotlib.pyplot as plt\n",
    "\n",
    "img = cv2.imread('c:\\\\opencv_test\\\\1.jpg')\n",
    "res = cv2.cvtColor(img, cv2.COLOR_BGR2RGB)\n",
    "\n",
    "#흑백 : 0  /  channels = [0] 블루, channels = [1] 그린, channels = [2] 레드\n",
    "hist_values = cv2.calcHist([res],channels=[0],mask=None,histSize=[256],ranges=[0,256])\n",
    "hist_values.shape\n",
    "\n",
    "plt.plot(hist_values)\n",
    "\n",
    "#plt.imshow(show_bird)"
   ]
  },
  {
   "cell_type": "code",
   "execution_count": 23,
   "metadata": {},
   "outputs": [
    {
     "name": "stdout",
     "output_type": "stream",
     "text": [
      "이미지크기 : (683, 1024, 3)\n"
     ]
    },
    {
     "data": {
      "text/plain": [
       "Text(0.5, 1.0, 'my_img')"
      ]
     },
     "execution_count": 23,
     "metadata": {},
     "output_type": "execute_result"
    },
    {
     "data": {
      "image/png": "[encoded data removed]",
      "text/plain": [
       "<Figure size 432x288 with 1 Axes>"
      ]
     },
     "metadata": {
      "needs_background": "light"
     },
     "output_type": "display_data"
    }
   ],
   "source": [
    "import cv2\n",
    "import numpy as np\n",
    "import matplotlib.pyplot as plt\n",
    "\n",
    "img = cv2.imread('c:\\\\opencv_test\\\\1.jpg')\n",
    "print(\"이미지크기 :\", img.shape)\n",
    "res = cv2.cvtColor(img, cv2.COLOR_BGR2RGB)\n",
    "color = ('b','g','r')\n",
    "\n",
    "for i, col in enumerate(color):\n",
    "    hist_values = cv2.calcHist([res],[i],None,[256],[0,256])\n",
    "    plt.plot(hist_values,color = col)\n",
    "    plt.xlim([0,256])\n",
    "\n",
    "plt.title(\"my_img\")\n",
    "\n",
    "#plt.imshow(show_bird)"
   ]
  },
  {
   "cell_type": "code",
   "execution_count": 26,
   "metadata": {},
   "outputs": [
    {
     "name": "stdout",
     "output_type": "stream",
     "text": [
      "이미지크기 : (683, 1024, 3)\n"
     ]
    },
    {
     "data": {
      "text/plain": [
       "Text(0.5, 1.0, 'my_image')"
      ]
     },
     "execution_count": 26,
     "metadata": {},
     "output_type": "execute_result"
    },
    {
     "data": {
      "image/png": "[encoded data removed]",
      "text/plain": [
       "<Figure size 432x288 with 1 Axes>"
      ]
     },
     "metadata": {
      "needs_background": "light"
     },
     "output_type": "display_data"
    }
   ],
   "source": [
    "import cv2\n",
    "import numpy as np\n",
    "import matplotlib.pyplot as plt\n",
    "\n",
    "img = cv2.imread('c:\\\\opencv_test\\\\1.jpg')\n",
    "print(\"이미지크기 :\", img.shape)\n",
    "res = cv2.cvtColor(img, cv2.COLOR_BGR2RGB)\n",
    "color = ('b','g','r')\n",
    "\n",
    "#특정영역의 마스크를 지정 한다\n",
    "mask = np.zeros(img.shape[:2],np.uint8) # 검정\n",
    "mask[300:400, 100:400] = 255 #흰색\n",
    "\n",
    "#마스크 확인\n",
    "#plt.imshow(mask, cmap = 'gray')\n",
    "\n",
    "for i, col in enumerate(color):\n",
    "    hist_values = cv2.calcHist([res],[i],mask,[256],[0,256])\n",
    "    plt.plot(hist_values,color = col)\n",
    "    plt.xlim([0,256])\n",
    "    \n",
    "plt.title(\"my_image\")"
   ]
  },
  {
   "cell_type": "code",
   "execution_count": 33,
   "metadata": {},
   "outputs": [
    {
     "name": "stdout",
     "output_type": "stream",
     "text": [
      "이미지크기 : (683, 1024, 3)\n"
     ]
    },
    {
     "data": {
      "image/png": "[encoded data removed]",
      "text/plain": [
       "<Figure size 432x288 with 1 Axes>"
      ]
     },
     "metadata": {
      "needs_background": "light"
     },
     "output_type": "display_data"
    }
   ],
   "source": [
    "#9-4 이미지, 마스크랑 이미지랑 결합\n",
    "import cv2\n",
    "import numpy as np\n",
    "import matplotlib.pyplot as plt\n",
    "\n",
    "img = cv2.imread('c:\\\\opencv_test\\\\1.jpg')\n",
    "print(\"이미지크기 :\", img.shape)\n",
    "res = cv2.cvtColor(img, cv2.COLOR_BGR2RGB)\n",
    "color = ('b','g','r')\n",
    "\n",
    "#특정영역의 마스크를 지정 한다\n",
    "mask = np.zeros(img.shape[:2],np.uint8) # 검정\n",
    "mask[300:600, 100:600] = 255 #흰색\n",
    "\n",
    "# 마스크가 된 히스토그램을 만들어 보자.\n",
    "hist_values_red = cv2.calcHist([img],[2],mask,[256],[0,256])\n",
    "hist_values_all = cv2.calcHist([img],[2],None,[256],[0,256])\n",
    "\n",
    "plt.plot(hist_values_all)\n",
    "\n",
    "\n",
    "#기존의 이미지랑 마스크 이미지랑 병합\n",
    "mask_img = cv2.bitwise_and(img,img,mask = mask)\n",
    "#plt.imshow(mask_img)\n",
    "\n",
    "#마스크 확인\n",
    "#plt.imshow(mask, cmap = 'gray')\n",
    "    \n",
    "#plt.title(\"my_image\")"
   ]
  },
  {
   "cell_type": "code",
   "execution_count": 45,
   "metadata": {},
   "outputs": [
    {
     "data": {
      "text/plain": [
       "[<matplotlib.lines.Line2D at 0x1b7bab97550>]"
      ]
     },
     "execution_count": 45,
     "metadata": {},
     "output_type": "execute_result"
    },
    {
     "data": {
      "image/png": "[encoded data removed]",
      "text/plain": [
       "<Figure size 432x288 with 1 Axes>"
      ]
     },
     "metadata": {
      "needs_background": "light"
     },
     "output_type": "display_data"
    }
   ],
   "source": [
    "#9-5 히스토그램 평탄화 : 화소값이 특정 부분에 편중화 되어있을 경우 골고루 색깔을 평탄하게 이미지 조정\n",
    "#9-4 이미지, 마스크랑 이미지랑 결합을 해보자\n",
    "import cv2\n",
    "import numpy as np\n",
    "import matplotlib.pyplot as plt\n",
    "\n",
    "def img_view(img,cmap = None):\n",
    "    fig = plt.figure(figsize = (10,5))  #plt의 영역(영역사이즈)\n",
    "    ax = fig.add_subplot(111)  #1*1 영역 중 1번쨰 위치에 좌표평면에 그려라\n",
    "    ax.imshow(img,cmap)\n",
    "    \n",
    "img = cv2.imread('c:\\\\opencv_test\\\\parang_1.jpg',0)\n",
    "#img_view(img,cmap = 'gray')\n",
    "\n",
    "hist_values_all = cv2.calcHist([img],[0],None,[256],[0,256])\n",
    "#plt.plot(hist_values_all)\n",
    "\n",
    "# equalizeHist(src[, dst]) -> dst 평탄화\n",
    "\n",
    "eq_img = cv2.equalizeHist(img)\n",
    "#img_view(eq_img,cmap='gray')\n",
    "\n",
    "hist_eq = cv2.calcHist([eq_img],[0],None,[256],[0,256])\n",
    "plt.plot(hist_values_all)"
   ]
  },
  {
   "cell_type": "code",
   "execution_count": 46,
   "metadata": {},
   "outputs": [
    {
     "ename": "error",
     "evalue": "OpenCV(4.5.1) C:\\Users\\appveyor\\AppData\\Local\\Temp\\1\\pip-req-build-i1s8y2i1\\opencv\\modules\\imgproc\\src\\color.cpp:182: error: (-215:Assertion failed) !_src.empty() in function 'cv::cvtColor'\n",
     "output_type": "error",
     "traceback": [
      "\u001b[1;31m---------------------------------------------------------------------------\u001b[0m",
      "\u001b[1;31merror\u001b[0m                                     Traceback (most recent call last)",
      "\u001b[1;32m<ipython-input-46-29541cc06b26>\u001b[0m in \u001b[0;36m<module>\u001b[1;34m\u001b[0m\n\u001b[0;32m      5\u001b[0m \u001b[1;33m\u001b[0m\u001b[0m\n\u001b[0;32m      6\u001b[0m \u001b[0mimg\u001b[0m \u001b[1;33m=\u001b[0m \u001b[0mcv2\u001b[0m\u001b[1;33m.\u001b[0m\u001b[0mimread\u001b[0m\u001b[1;33m(\u001b[0m\u001b[1;34m\"C:\\\\Test\\\\Img\\\\parang_1.jpg\"\u001b[0m\u001b[1;33m)\u001b[0m\u001b[1;33m\u001b[0m\u001b[1;33m\u001b[0m\u001b[0m\n\u001b[1;32m----> 7\u001b[1;33m \u001b[0mres\u001b[0m \u001b[1;33m=\u001b[0m \u001b[0mcv2\u001b[0m\u001b[1;33m.\u001b[0m\u001b[0mcvtColor\u001b[0m\u001b[1;33m(\u001b[0m\u001b[0mimg\u001b[0m\u001b[1;33m,\u001b[0m \u001b[0mcv2\u001b[0m\u001b[1;33m.\u001b[0m\u001b[0mCOLOR_BGR2RGB\u001b[0m\u001b[1;33m)\u001b[0m\u001b[1;33m\u001b[0m\u001b[1;33m\u001b[0m\u001b[0m\n\u001b[0m\u001b[0;32m      8\u001b[0m \u001b[1;33m\u001b[0m\u001b[0m\n\u001b[0;32m      9\u001b[0m \u001b[1;31m#원하는 위치에 원하는 크기로 마스크 만들기\u001b[0m\u001b[1;33m\u001b[0m\u001b[1;33m\u001b[0m\u001b[1;33m\u001b[0m\u001b[0m\n",
      "\u001b[1;31merror\u001b[0m: OpenCV(4.5.1) C:\\Users\\appveyor\\AppData\\Local\\Temp\\1\\pip-req-build-i1s8y2i1\\opencv\\modules\\imgproc\\src\\color.cpp:182: error: (-215:Assertion failed) !_src.empty() in function 'cv::cvtColor'\n"
     ]
    }
   ],
   "source": [
    "#10-3) 이미지, 마스크 이미지랑 결합을 해보자\n",
    "import cv2\n",
    "import numpy as np\n",
    "import matplotlib.pyplot as plt\n",
    "\n",
    "img = cv2.imread(\"C:\\\\Test\\\\Img\\\\parang_1.jpg\")\n",
    "res = cv2.cvtColor(img, cv2.COLOR_BGR2RGB)\n",
    "\n",
    "#원하는 위치에 원하는 크기로 마스크 만들기\n",
    "mask = np.zeros(img.shape[:2], np.uint8)  #검정\n",
    "mask[100:120, 200:280] = 255 #원하는 부분만 흰색으로 바꿈\n",
    "\n",
    "#마스크가 된 히스토그램을 만들어보자.\n",
    "hist_values_red = cv2.calcHist([img], channels=[2], mask=mask, histSize=[256], ranges=[0,256])\n",
    "hist_values_all = cv2.calcHist([img], channels=[2], mask=None, histSize=[256], ranges=[0,256])\n",
    "plt.plot(hist_values_red)\n",
    "\n",
    "#기존의 이미지랑 마스크 이미지랑 병합\n",
    "mask_img = cv2.bitwise_and(img, img, mask=mask)\n",
    "# plt.imshow(mask_img)\n",
    "\n",
    "\n",
    "\n",
    "#마스크 확인\n",
    "# plt.imshow(mask, cmap='gray')\n",
    "\n",
    "# plt.title(\"my_img\")    \n",
    "# plt.show()"
   ]
  },
  {
   "cell_type": "code",
   "execution_count": 2,
   "metadata": {},
   "outputs": [],
   "source": [
    "#트랙바를 사용해서 컬러 공간 변환\n",
    "import cv2\n",
    "import numpy as np\n",
    "import matplotlib.pyplot as plt\n",
    "\n",
    "def onChange(value):\n",
    "    tb[0] = cv2.getTrackbarPos(\"my_trackbar\", \"result\")\n",
    "    tb[1] = cv2.getTrackbarPos(\"my_trackbar02\", \"result\")\n",
    "    \n",
    "    my_a, res = cv2.threshold(result,tb[1],255,cv2.THRESH_TOZERO_INV)\n",
    "    cv2.threshold(res,tb[0],255,cv2.THRESH_BINARY,res)\n",
    "    cv2.imshow(\"result\",res)\n",
    "\n",
    "img_bgr = cv2.imread('c:\\\\opencv_test\\\\1.jpg',cv2.IMREAD_COLOR)\n",
    "img_hsv = cv2.cvtColor(img_bgr,cv2.COLOR_BGR2HSV)  #BGR -> HSV로 벼노한 (컬러공간을 변환)\n",
    "\n",
    "result = np.copy(img_hsv[:,:,0]) #색상을 복사 / 0[색상], 1[채도], 2[밝기]\n",
    "\n",
    "tb = [50,100] # 트랙바로 선택할 변수 범위\n",
    "cv2.namedWindow(\"result\")\n",
    "cv2.createTrackbar(\"my_trackbar\", \"result\", tb[0], 255, onChange)\n",
    "cv2.createTrackbar(\"my_trackbar02\", \"result\", tb[1], 255, onChange)\n",
    "\n",
    "onChange(tb[0]) #2진화 작업\n",
    "cv2.imshow(\"img_bgr\",img_bgr)\n",
    "\n",
    "cv2.waitKey(0)\n",
    "cv2.destroyAllWindows()"
   ]
  },
  {
   "cell_type": "raw",
   "metadata": {},
   "source": [
    "1. 디지털 영상은 화소들로 구성, 화소 0~255값을 가진다. 0(검정) ~ 255(흰색)\n",
    "2. 화소값은 회색의 비율정도로 표현된다. -> 그레이스케일 영상\n",
    "3. 행렬의 모든 요소에 스칼라 값을 + : 영상을 밝게한다.  - : 영상을 어둡게 한다.  *영상이 대비조절을 한다.\n",
    "4. 히스토그램은 영상의 어떤 데이터가 얼마나 많은지 빈도수 도수분포표(가로축(계층,계급), 세로축(도수,빈도수))"
   ]
  },
  {
   "cell_type": "code",
   "execution_count": null,
   "metadata": {},
   "outputs": [],
   "source": [
    "5. 히스토그램을 계산하는 함수 : cv2. calcHist() 함수는 매개인수로 입력이미지 또는 영상의 행렬, 입력영상채널,\n",
    "    마스크행렬, 출력결과행렬, 결과행렬의 차원수, 계급크기, 각 채널범위등으로 구성된다.\n",
    "6. histogram stretching : 히스토그램의 분포가 한쪽으로 치우쳐서 분포가 좁아서 영상의 대비가 좋지 않은 영상을\n",
    "                          개선하는 알고리즘\n",
    "7. histogram equalization : 특정 부분에서 한쪽으로 치우친 명암분포를 가진 영상을 히스토그램의 재분배과정을 거쳐서\n",
    "                            균등하게 만들어 주는 알고리즘\n",
    "8. 컬러공간이란 색 표시계의 모든 색들을 색공간에서 3차원 좌표로 표현한 것을 말한다.\n",
    "9. RGB : 모니터에서 주로 사용 , CMY : 프린터에서 사용, HSI : 인간의 시각 시스템과 유사한 알고리즘\n",
    "   YcbCr : JPEG 등의 압축영상에 사용, YUV : 방송시스템에 사용, XYZ, La*b* -> 컬러공간\n",
    "   cv2.cvtColor() 컬러공간 변환\n",
    "        "
   ]
  }
 ],
 "metadata": {
  "kernelspec": {
   "display_name": "Python 3",
   "language": "python",
   "name": "python3"
  },
  "language_info": {
   "codemirror_mode": {
    "name": "ipython",
    "version": 3
   },
   "file_extension": ".py",
   "mimetype": "text/x-python",
   "name": "python",
   "nbconvert_exporter": "python",
   "pygments_lexer": "ipython3",
   "version": "3.8.5"
  }
 },
 "nbformat": 4,
 "nbformat_minor": 4
}
