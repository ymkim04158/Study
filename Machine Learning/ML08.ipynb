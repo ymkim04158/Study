{
 "cells": [
  {
   "cell_type": "markdown",
   "metadata": {},
   "source": [
    "선형회귀 모델로 데이터적용을 이해 하자\n",
    "\n",
    "평균기온  |  아이스크림 쇼핑 클릭량\n",
    "---------|---------------------\n",
    "    5     |            15     \n",
    "    10    |            25     \n",
    "    15    |            35     \n",
    "    20    |            ?     \n",
    "    "
   ]
  },
  {
   "cell_type": "code",
   "execution_count": 2,
   "metadata": {},
   "outputs": [
    {
     "data": {
      "image/png": "[encoded data removed]",
      "text/plain": [
       "<Figure size 432x288 with 1 Axes>"
      ]
     },
     "metadata": {
      "needs_background": "light"
     },
     "output_type": "display_data"
    }
   ],
   "source": [
    "import numpy as np\n",
    "import matplotlib.pyplot as plt\n",
    "\n",
    "temp = np.array([5,10,15])\n",
    "ice = np.array([15,25,35])\n",
    "\n",
    "plt.plot(temp, ice)\n",
    "plt.scatter(temp,ice)\n",
    "plt.grid()\n",
    "plt.show()"
   ]
  },
  {
   "cell_type": "markdown",
   "metadata": {},
   "source": [
    "##2. 좋은 직선을 찾는 기준, 평균 제곱근 오차(RMSE)\n",
    "\n",
    "\n",
    "평균기온  |  아이스크림 쇼핑 클릭량\n",
    " ---------|---------------------\n",
    "    5     |            16     \n",
    "    10    |            23     \n",
    "    15    |            31     \n",
    "    20    |            50     \n",
    "\n",
    "직선의 방정식 f1(X) = 2X + 5 라는 생각으로 오차를 구해보자"
   ]
  },
  {
   "cell_type": "code",
   "execution_count": 10,
   "metadata": {},
   "outputs": [
    {
     "name": "stdout",
     "output_type": "stream",
     "text": [
      "[ 1 -2 -4  5]\n",
      "0\n"
     ]
    }
   ],
   "source": [
    "X = np.array([5,10,15,20])  #평균 기온 X\n",
    "Y = np.array([16,23,31,50])  #실제 쇼핑 클릭량 Y\n",
    "\n",
    "f1_x = 2*X + 5\n",
    "f1_error = Y - f1_x\n",
    "print(f1_error)\n",
    "print(np.sum(f1_error))"
   ]
  },
  {
   "cell_type": "markdown",
   "metadata": {},
   "source": [
    "입력변수 |  예측값  |  실제값  |  오차\n",
    "---------|----------|----------|--------\n",
    "    5    |   15     |    16    |    1\n",
    "    10   |   25     |    23    |   -2\n",
    "    15   |   35     |    31    |   -4\n",
    "    20   |   45     |    50    |    5\n",
    "    "
   ]
  },
  {
   "cell_type": "code",
   "execution_count": 11,
   "metadata": {},
   "outputs": [
    {
     "data": {
      "image/png": "[encoded data removed]",
      "text/plain": [
       "<Figure size 432x288 with 1 Axes>"
      ]
     },
     "metadata": {
      "needs_background": "light"
     },
     "output_type": "display_data"
    }
   ],
   "source": [
    "#그래프 - 예측치의 직선 방정식\n",
    "plt.plot(X,f1_x)\n",
    "\n",
    "#오차값\n",
    "for i in range(len(X)):\n",
    "    x = np.array([X[i],X[i]])  #현재 온도\n",
    "    y = np.array([f1_x[i],Y[i]])  #실제 값과 예측값\n",
    "    plt.plot(x,y,marker = 'o')\n",
    "plt.grid()\n",
    "plt.show()"
   ]
  },
  {
   "cell_type": "code",
   "execution_count": 12,
   "metadata": {},
   "outputs": [
    {
     "name": "stdout",
     "output_type": "stream",
     "text": [
      "[-14  -7   1  20]\n",
      "0\n"
     ]
    }
   ],
   "source": [
    "# 직선의 방정식 f2(X) = 30 이라고 생각할 경우 오차를 구해보자\n",
    "# 오차의 합은 0이지만 수평 직선은 데이터가 제대로 표현되지 못하고 있다.\n",
    "f2_x = np.full((X.shape),30)\n",
    "f2_error = Y-f2_x\n",
    "print(f2_error)\n",
    "print(np.sum(f2_error))"
   ]
  },
  {
   "cell_type": "code",
   "execution_count": null,
   "metadata": {},
   "outputs": [],
   "source": [
    "#새로운 예측 값을 지정 -2x + 55 오차의 합은 0\n",
    "#rmfov - dPcmrcldml wlrtjs qkdwjdtlr\n"
   ]
  },
  {
   "cell_type": "code",
   "execution_count": null,
   "metadata": {},
   "outputs": [],
   "source": [
    "# 3개의 직선을 모두 그려 보자\n",
    "plt.scatter(X,Y)\n",
    "plt.plot(X,f1_x)\n",
    "plt.plot(X,f2_x)\n",
    "plt.plot(X,f3_x)\n",
    "plt.grid()\n",
    "plt.show()"
   ]
  },
  {
   "cell_type": "markdown",
   "metadata": {},
   "source": [
    "정답과 예측치와의 오차의 단순 합은 모두 0으로 만들어 사용하기 때문에 어떤 공식을 적용해도 결과 데이터 혹은 데이터\n",
    "\n",
    "표시가 어떤 것이 더 좋은지 판단 할 수 없다. 음수의 값으로 예측값 보다 실제값이 작은 값이 발생할 경우가 생겨난다.\n",
    "\n",
    "이 원인을 가지고 오차의 결과를 양수로 만들어 주는 작업을 하고 새롭게  제곱들의 평균을 구한 후 이값의 제곱근의 오차를 구한다.\n",
    "\n",
    "RMSE = Root Mean Square Error\n",
    "$$\n",
    "RMSE = \\sqrt{\\frac{1}{n}\\sum_{i=1}^{n}{(Y_i - f(X_i))^2}}\n",
    "$$"
   ]
  },
  {
   "cell_type": "code",
   "execution_count": 14,
   "metadata": {},
   "outputs": [
    {
     "name": "stdout",
     "output_type": "stream",
     "text": [
      "3.391164991562634\n",
      "12.708265027138834\n",
      "23.695991222145572\n"
     ]
    }
   ],
   "source": [
    "def RMSE(a,b,X,y):\n",
    "    RMSE = np.sqrt( ( ( y - ( a * X + b )) **2 ).mean())\n",
    "    return RMSE\n",
    "\n",
    "#처음 지정한 공식 f(x) = 2x+5\n",
    "print(RMSE(2,5,X,Y))\n",
    "\n",
    "#두번째 지정한 공식 f(x) = 30\n",
    "print(RMSE(0,30,X,Y))\n",
    "\n",
    "#세번째 지정한 공식 f(x) = -2x+55\n",
    "print(RMSE(-2,55,X,Y))"
   ]
  },
  {
   "cell_type": "markdown",
   "metadata": {},
   "source": [
    "평균제곱근오차와 같이 좋은 직선을 찾기 위해 크기를 최소화해야 하는 값에 대한 함수를 선형회귀 모델의 비용함수(Cost Function)라고 한다.\n",
    "$$\n",
    "f(X) = \\beta_1X + \\beta_0\n",
    "$$\n",
    "$$\n",
    "Cost(\\beta_0, \\beta_1) = \\sqrt{\\frac{1}{n}\\sum_{i=1}^{n}{(Y_i - f(X_i))^2}}\n",
    "$$"
   ]
  },
  {
   "cell_type": "code",
   "execution_count": 18,
   "metadata": {},
   "outputs": [
    {
     "name": "stdout",
     "output_type": "stream",
     "text": [
      "[-2.1, -2.5, -2.1, -0.7, 0.2, -1.3, -0.5, -0.7, -2.9, 0.5, 2.1, 3.0, 1.3, 1.0, 0.9, -3.2, 0.4, 0.8, 2.9, 1.6, 0.5, 2.6, 3.1, 0.7, -0.4, -1.8, -0.2, 2.6, 0.0, 3.5, 0.3, -1.3, 2.1, 5.6, 2.5, 2.9, 5.6, 2.1, -2.0, -1.7, -1.4, -0.8, 0.1, 0.3, 0.6, 2.0, -0.3, -0.2, 2.2, 2.9, 2.8, 2.7, 3.9, 5.0, 6.1, 6.0, 5.4, 7.1, 6.8, 6.0, 6.9, 8.7, 8.8, 8.2, 8.8, 6.5, 6.1, 7.9, 7.8, 6.4, 5.8, 3.9, 5.2, 5.8, 5.8, 6.6, 7.5, 10.7, 11.4, 9.8, 5.2, 4.2, 4.7, 7.2, 10.5, 12.8, 10.6, 10.6, 7.2, 5.4, 5.7, 6.7, 7.4, 9.9, 11.7, 11.6, 12.5, 11.8, 9.3, 7.2, 8.8, 10.7, 11.6, 10.2, 11.1, 14.2, 15.5, 15.3, 12.8, 14.7, 16.5, 17.6, 16.8, 17.3, 13.5, 9.4, 11.4, 12.1, 11.3, 14.6, 15.4, 16.0, 16.7, 17.6, 18.9, 14.0, 13.9, 15.7, 17.1, 17.6, 18.5, 18.4, 17.9, 19.8, 20.3, 21.4, 21.3, 18.8, 19.5, 17.0, 17.0, 19.2, 20.9, 22.9, 23.3, 23.2, 18.6, 17.8, 19.7, 20.5, 18.6, 18.9, 20.6, 22.0, 23.1, 22.9, 21.1, 18.6, 20.1, 19.7, 18.3, 18.8, 19.7, 21.2, 20.2, 20.4, 20.2, 21.3, 21.3, 22.2, 23.4, 22.8, 21.7, 21.6, 22.5, 23.6, 21.1, 23.8, 23.6, 21.6, 23.8, 23.2, 23.4, 23.1, 24.4, 25.1, 25.1, 23.5, 22.6, 22.6, 20.9, 22.2, 23.2, 23.3, 23.9, 23.2, 23.8, 24.4, 24.3, 25.2, 24.8, 24.8, 27.0, 27.9, 26.8, 26.6, 26.5, 27.1, 26.9, 27.8, 28.4, 28.4, 28.4, 28.8, 28.3, 28.4, 28.8, 27.6, 27.2, 27.6, 28.3, 28.6, 28.3, 27.7, 28.5, 28.6, 26.1, 26.4, 26.2, 25.3, 25.1, 26.0, 25.8, 25.8, 24.7, 22.8, 23.2, 24.3, 22.7, 23.8, 22.4, 22.9, 22.6, 22.1, 21.6, 22.1, 23.4, 24.2, 25.4, 25.8, 24.6, 24.7, 25.4, 23.9, 20.8, 21.7, 22.3, 23.4, 22.4, 21.3, 21.0, 19.2, 19.3, 17.8, 17.5, 18.1, 17.8, 18.4, 20.4, 21.4, 22.5, 22.2, 21.6, 21.5, 21.1, 22.0, 21.2, 18.9, 17.3, 15.5, 15.9, 13.3, 14.9, 17.9, 18.0, 15.9, 14.7, 13.3, 13.3, 14.0, 15.3, 16.2, 15.1, 15.3, 15.9, 16.0, 17.4, 16.9, 12.8, 10.7, 11.5, 13.2, 11.3, 13.3, 14.3, 13.5, 13.8, 12.5, 11.7, 11.3, 10.8, 7.8, 8.5, 9.4, 12.1, 9.7, 8.9, 3.7, 7.2, 10.3, 11.0, 8.7, 3.7, 2.6, 5.0, 9.3, 10.8, 12.8, 5.9, 7.7, 6.2, 4.7, 3.4, 5.4, 6.3, 3.6, 2.4, 4.2, 0.2, -3.2, 0.1, 1.4, 3.0, 6.5, 6.9, 1.7, 1.6, 4.0, 4.7, 7.1, 8.3, 4.6, 2.2, 1.0, 0.2, 3.0, 3.8, 2.1, 3.5, 3.7, 0.6, 0.5, 2.6, 5.0, -3.8]\n",
      "[27, 27, 25, 25, 26, 30, 29, 28, 27, 27, 27, 25, 30, 31, 34, 33, 29, 26, 26, 32, 33, 31, 32, 28, 25, 24, 29, 30, 27, 24, 21, 20, 21, 21, 22, 22, 28, 33, 32, 31, 34, 34, 30, 27, 26, 23, 26, 31, 32, 31, 28, 28, 29, 30, 32, 32, 29, 28, 28, 27, 28, 31, 28, 27, 31, 25, 24, 28, 33, 30, 28, 29, 28, 23, 24, 27, 28, 28, 31, 28, 25, 26, 32, 34, 35, 31, 31, 24, 26, 32, 31, 32, 32, 32, 27, 27, 32, 34, 33, 32, 31, 29, 27, 37, 38, 37, 36, 36, 31, 29, 35, 47, 43, 44, 42, 35, 31, 37, 44, 41, 56, 46, 39, 35, 37, 47, 52, 51, 51, 48, 54, 77, 81, 87, 90, 100, 72, 67, 77, 76, 75, 89, 96, 75, 67, 84, 99, 91, 86, 77, 60, 63, 78, 95, 88, 73, 81, 69, 67, 75, 80, 79, 75, 71, 66, 57, 68, 78, 76, 68, 67, 63, 56, 66, 81, 79, 67, 64, 54, 52, 64, 70, 83, 75, 69, 61, 57, 68, 75, 68, 66, 63, 55, 53, 62, 69, 66, 65, 62, 61, 57, 61, 73, 77, 69, 74, 63, 52, 57, 65, 65, 61, 66, 56, 54, 64, 72, 75, 69, 69, 61, 49, 56, 62, 60, 53, 49, 53, 41, 50, 55, 53, 47, 47, 41, 37, 44, 45, 43, 47, 40, 34, 32, 41, 42, 39, 35, 36, 36, 33, 37, 35, 26, 22, 23, 28, 29, 38, 39, 38, 36, 32, 28, 29, 35, 33, 34, 32, 31, 27, 28, 35, 36, 34, 32, 35, 31, 27, 33, 32, 30, 32, 29, 28, 28, 33, 31, 32, 32, 29, 27, 28, 31, 34, 32, 32, 32, 25, 24, 30, 33, 29, 28, 25, 23, 25, 32, 31, 30, 32, 27, 22, 22, 29, 27, 28, 29, 24, 21, 21, 29, 29, 29, 30, 27, 26, 25, 32, 30, 31, 30, 28, 24, 24, 31, 33, 30, 28, 26, 24, 25, 39, 33, 30, 30, 30, 28, 30, 35, 35, 35, 33, 31, 25, 25, 31, 29, 22, 24, 26, 24, 25, 29, 28, 22]\n"
     ]
    }
   ],
   "source": [
    "#온도와 아이스크림 클릭량을 이용해서 데이터 관계를 살펴 보자.\n",
    "#1. Data 행렬로 구현해서 출력 해보자.\n",
    "import csv\n",
    "\n",
    "f = open('res_ice.csv', encoding = 'euc-kr')\n",
    "data = csv.reader(f)\n",
    "header = next(data) # 헤더 처리\n",
    "\n",
    "temp = []  #평균 기온 데이터 저장소\n",
    "ice = []  #아이스크림 쇼핑 데이터 저장\n",
    "\n",
    "for row in data :\n",
    "    temp.append(float(row[1]))\n",
    "    ice.append(int(row[4]))\n",
    "    \n",
    "print(temp)\n",
    "print(ice)"
   ]
  },
  {
   "cell_type": "code",
   "execution_count": 19,
   "metadata": {},
   "outputs": [
    {
     "name": "stdout",
     "output_type": "stream",
     "text": [
      "28.8 -3.8\n",
      "100 20\n"
     ]
    }
   ],
   "source": [
    "#2. 평균 기온과 아이스크림의 최대 값과 최소값을 출력\n",
    "print(max(temp),min(temp))\n",
    "print(max(ice),min(ice))"
   ]
  },
  {
   "cell_type": "code",
   "execution_count": 25,
   "metadata": {},
   "outputs": [],
   "source": [
    "#3. 평균 기온 값을 기준으로 도수 분포표를 생성하자.\n",
    "import numpy as np\n",
    "bins = np.arange(min(temp), max(temp)+5,5)\n",
    "\n",
    "hist, bins = np.histogram(temp,bins)  #히스토그램 계산 -> 총데이터, bins의 계급값"
   ]
  },
  {
   "cell_type": "code",
   "execution_count": 26,
   "metadata": {},
   "outputs": [
    {
     "name": "stdout",
     "output_type": "stream",
     "text": [
      "[1098. 1782. 1469. 1632. 3198. 4337. 1616.]\n",
      "[1098. 1782. 1469. 1632. 3198. 4337. 1616.]\n"
     ]
    }
   ],
   "source": [
    "#4. 평균 기온 기준으로 아이스크림 구분해서 저장\n",
    "ice_buy = np.zeros(7)\n",
    "\n",
    "for i in range(0, len(temp)): #평균 기온 데이터 전체 탐색\n",
    "    if bins[0] <= temp[i] and temp[i] < bins[1] : # 첫번째 인덱스에 해당한다면\n",
    "        ice_buy[0] = ice_buy[0] + ice[i]  #첫번째 배열 값에 해당하는 날짜의 아이스크림 클릭량을 저장하기\n",
    "    \n",
    "    elif bins[1] <= temp[i] and temp[i] < bins[2]:\n",
    "        ice_buy[1] = ice_buy[1] + ice[i]\n",
    "    elif bins[2] <= temp[i] and temp[i] < bins[3]:\n",
    "        ice_buy[2] = ice_buy[2] + ice[i]\n",
    "    elif bins[3] <= temp[i] and temp[i] < bins[4]:\n",
    "        ice_buy[3] = ice_buy[3] + ice[i]\n",
    "    elif bins[4] <= temp[i] and temp[i] < bins[5]:\n",
    "        ice_buy[4] = ice_buy[4] + ice[i]\n",
    "    elif bins[5] <= temp[i] and temp[i] < bins[6]:\n",
    "        ice_buy[5] = ice_buy[5] + ice[i]\n",
    "    else:\n",
    "        ice_buy[6] = ice_buy[6] + ice[i]\n",
    "        \n",
    "print(ice_buy)\n",
    "\n",
    "ice_buy02 = np.zeros(7)\n",
    "for i in range(0, len(temp)):\n",
    "    for j in range(0, len(bins)):\n",
    "        if bins[j] <= temp[i] and temp[i] < bins [j+1] :\n",
    "            ice_buy02[j] = ice_buy02[j] + ice[i]\n",
    "            \n",
    "print(ice_buy02)"
   ]
  },
  {
   "cell_type": "code",
   "execution_count": 27,
   "metadata": {},
   "outputs": [
    {
     "name": "stdout",
     "output_type": "stream",
     "text": [
      "27.45\n",
      "28.29\n",
      "29.38\n",
      "33.31\n",
      "56.11\n",
      "54.21\n",
      "62.15\n"
     ]
    }
   ],
   "source": [
    "#5. 계급별 아이스크림 쇼핑 클릭량의 평균을 구하자.\n",
    "#  평균 기온값 계급별 아이스크림 쇼핑 클릭량을 구하자.\n",
    "ice_buy_a = np.zeros(7)  # 아이스크림 쇼핑 클릭량의 합을 구할 배열\n",
    "\n",
    "for i in range(0,len(ice_buy)):\n",
    "    ice_buy_a[i] = ice_buy[i] / hist[i]  # 계급별 아이스크림 쇼핑 클릭량의 평균\n",
    "    \n",
    "#아이스 크림 클릭량의 평균을 소수 이하 2자리 까지 출력 해보자.\n",
    "\n",
    "for i in range(0,len(ice_buy)):\n",
    "    print(\"%.2f\"%ice_buy_a[i])"
   ]
  },
  {
   "cell_type": "code",
   "execution_count": 28,
   "metadata": {},
   "outputs": [
    {
     "name": "stdout",
     "output_type": "stream",
     "text": [
      "[-3.8  1.2  6.2 11.2 16.2 21.2 26.2 31.2]\n"
     ]
    },
    {
     "data": {
      "image/png": "[encoded data removed]",
      "text/plain": [
       "<Figure size 432x288 with 1 Axes>"
      ]
     },
     "metadata": {
      "needs_background": "light"
     },
     "output_type": "display_data"
    }
   ],
   "source": [
    "#6. 평균 기온에 따른 아이스크림 클릭량의 평균을 막대 그래프로 그리자.\n",
    "import matplotlib.pyplot as plt\n",
    "print(bins)\n",
    "plt.xlabel('avg temp')\n",
    "plt.ylabel('num if ice shopping')\n",
    "plt.bar(bins[0:7], ice_buy_a, width = 2, align = 'edge')\n",
    "\n",
    "plt.xticks(bins[0:7])\n",
    "plt.show()"
   ]
  },
  {
   "cell_type": "code",
   "execution_count": 30,
   "metadata": {},
   "outputs": [
    {
     "name": "stdout",
     "output_type": "stream",
     "text": [
      "[-3.8  1.2  6.2 11.2 16.2 21.2 26.2 31.2]\n"
     ]
    },
    {
     "data": {
      "image/png": "[encoded data removed]",
      "text/plain": [
       "<Figure size 432x288 with 1 Axes>"
      ]
     },
     "metadata": {
      "needs_background": "light"
     },
     "output_type": "display_data"
    }
   ],
   "source": [
    "#6. 평균 기온에 따른 아이스크림 클릭량의 평균을 막대 그래프로 그리자.\n",
    "import matplotlib.pyplot as plt\n",
    "print(bins)\n",
    "plt.xlabel('avg temp')\n",
    "plt.ylabel('num if ice shopping')\n",
    "plt.scatter(temp,ice)\n",
    "plt.show()"
   ]
  },
  {
   "cell_type": "code",
   "execution_count": 31,
   "metadata": {},
   "outputs": [
    {
     "data": {
      "text/html": [
       "<div>\n",
       "<style scoped>\n",
       "    .dataframe tbody tr th:only-of-type {\n",
       "        vertical-align: middle;\n",
       "    }\n",
       "\n",
       "    .dataframe tbody tr th {\n",
       "        vertical-align: top;\n",
       "    }\n",
       "\n",
       "    .dataframe thead th {\n",
       "        text-align: right;\n",
       "    }\n",
       "</style>\n",
       "<table border=\"1\" class=\"dataframe\">\n",
       "  <thead>\n",
       "    <tr style=\"text-align: right;\">\n",
       "      <th></th>\n",
       "      <th>날짜</th>\n",
       "      <th>평균기온(℃)</th>\n",
       "      <th>최저기온(℃)</th>\n",
       "      <th>최고기온(℃)</th>\n",
       "      <th>아이스크림/빙수</th>\n",
       "    </tr>\n",
       "  </thead>\n",
       "  <tbody>\n",
       "    <tr>\n",
       "      <th>0</th>\n",
       "      <td>2019-01-01</td>\n",
       "      <td>-2.1</td>\n",
       "      <td>-5.8</td>\n",
       "      <td>2.1</td>\n",
       "      <td>27</td>\n",
       "    </tr>\n",
       "    <tr>\n",
       "      <th>1</th>\n",
       "      <td>2019-01-02</td>\n",
       "      <td>-2.5</td>\n",
       "      <td>-7.0</td>\n",
       "      <td>3.2</td>\n",
       "      <td>27</td>\n",
       "    </tr>\n",
       "    <tr>\n",
       "      <th>2</th>\n",
       "      <td>2019-01-03</td>\n",
       "      <td>-2.1</td>\n",
       "      <td>-7.7</td>\n",
       "      <td>5.0</td>\n",
       "      <td>25</td>\n",
       "    </tr>\n",
       "    <tr>\n",
       "      <th>3</th>\n",
       "      <td>2019-01-04</td>\n",
       "      <td>-0.7</td>\n",
       "      <td>-7.3</td>\n",
       "      <td>5.3</td>\n",
       "      <td>25</td>\n",
       "    </tr>\n",
       "    <tr>\n",
       "      <th>4</th>\n",
       "      <td>2019-01-05</td>\n",
       "      <td>0.2</td>\n",
       "      <td>-4.6</td>\n",
       "      <td>5.3</td>\n",
       "      <td>26</td>\n",
       "    </tr>\n",
       "    <tr>\n",
       "      <th>...</th>\n",
       "      <td>...</td>\n",
       "      <td>...</td>\n",
       "      <td>...</td>\n",
       "      <td>...</td>\n",
       "      <td>...</td>\n",
       "    </tr>\n",
       "    <tr>\n",
       "      <th>360</th>\n",
       "      <td>2019-12-27</td>\n",
       "      <td>0.6</td>\n",
       "      <td>-3.2</td>\n",
       "      <td>5.1</td>\n",
       "      <td>24</td>\n",
       "    </tr>\n",
       "    <tr>\n",
       "      <th>361</th>\n",
       "      <td>2019-12-28</td>\n",
       "      <td>0.5</td>\n",
       "      <td>-4.9</td>\n",
       "      <td>7.5</td>\n",
       "      <td>25</td>\n",
       "    </tr>\n",
       "    <tr>\n",
       "      <th>362</th>\n",
       "      <td>2019-12-29</td>\n",
       "      <td>2.6</td>\n",
       "      <td>-2.4</td>\n",
       "      <td>6.6</td>\n",
       "      <td>29</td>\n",
       "    </tr>\n",
       "    <tr>\n",
       "      <th>363</th>\n",
       "      <td>2019-12-30</td>\n",
       "      <td>5.0</td>\n",
       "      <td>0.1</td>\n",
       "      <td>9.8</td>\n",
       "      <td>28</td>\n",
       "    </tr>\n",
       "    <tr>\n",
       "      <th>364</th>\n",
       "      <td>2019-12-31</td>\n",
       "      <td>-3.8</td>\n",
       "      <td>-6.7</td>\n",
       "      <td>0.4</td>\n",
       "      <td>22</td>\n",
       "    </tr>\n",
       "  </tbody>\n",
       "</table>\n",
       "<p>365 rows × 5 columns</p>\n",
       "</div>"
      ],
      "text/plain": [
       "             날짜  평균기온(℃)  최저기온(℃)  최고기온(℃)  아이스크림/빙수\n",
       "0    2019-01-01     -2.1     -5.8      2.1        27\n",
       "1    2019-01-02     -2.5     -7.0      3.2        27\n",
       "2    2019-01-03     -2.1     -7.7      5.0        25\n",
       "3    2019-01-04     -0.7     -7.3      5.3        25\n",
       "4    2019-01-05      0.2     -4.6      5.3        26\n",
       "..          ...      ...      ...      ...       ...\n",
       "360  2019-12-27      0.6     -3.2      5.1        24\n",
       "361  2019-12-28      0.5     -4.9      7.5        25\n",
       "362  2019-12-29      2.6     -2.4      6.6        29\n",
       "363  2019-12-30      5.0      0.1      9.8        28\n",
       "364  2019-12-31     -3.8     -6.7      0.4        22\n",
       "\n",
       "[365 rows x 5 columns]"
      ]
     },
     "execution_count": 31,
     "metadata": {},
     "output_type": "execute_result"
    }
   ],
   "source": [
    "#7. 데이터 학습, 평가 데이터 분리하기\n",
    "# 데이터로드\n",
    "import pandas as pd\n",
    "df = pd.read_csv('res_ice.csv', encoding = 'euc-kr')\n",
    "df"
   ]
  },
  {
   "cell_type": "code",
   "execution_count": 32,
   "metadata": {},
   "outputs": [
    {
     "data": {
      "text/plain": [
       "array([['2019-01-01', -2.1, -5.8, 2.1, 27],\n",
       "       ['2019-01-02', -2.5, -7.0, 3.2, 27],\n",
       "       ['2019-01-03', -2.1, -7.7, 5.0, 25],\n",
       "       ...,\n",
       "       ['2019-12-29', 2.6, -2.4, 6.6, 29],\n",
       "       ['2019-12-30', 5.0, 0.1, 9.8, 28],\n",
       "       ['2019-12-31', -3.8, -6.7, 0.4, 22]], dtype=object)"
      ]
     },
     "execution_count": 32,
     "metadata": {},
     "output_type": "execute_result"
    }
   ],
   "source": [
    "#step1 학습 데이터의 입출력 변수 나누기\n",
    "data = np.array(df)"
   ]
  },
  {
   "cell_type": "code",
   "execution_count": 34,
   "metadata": {},
   "outputs": [
    {
     "data": {
      "text/plain": [
       "array([27, 27, 25, 25, 26, 30, 29, 28, 27, 27, 27, 25, 30, 31, 34, 33, 29,\n",
       "       26, 26, 32, 33, 31, 32, 28, 25, 24, 29, 30, 27, 24, 21, 20, 21, 21,\n",
       "       22, 22, 28, 33, 32, 31, 34, 34, 30, 27, 26, 23, 26, 31, 32, 31, 28,\n",
       "       28, 29, 30, 32, 32, 29, 28, 28, 27, 28, 31, 28, 27, 31, 25, 24, 28,\n",
       "       33, 30, 28, 29, 28, 23, 24, 27, 28, 28, 31, 28, 25, 26, 32, 34, 35,\n",
       "       31, 31, 24, 26, 32, 31, 32, 32, 32, 27, 27, 32, 34, 33, 32, 31, 29,\n",
       "       27, 37, 38, 37, 36, 36, 31, 29, 35, 47, 43, 44, 42, 35, 31, 37, 44,\n",
       "       41, 56, 46, 39, 35, 37, 47, 52, 51, 51, 48, 54, 77, 81, 87, 90,\n",
       "       100, 72, 67, 77, 76, 75, 89, 96, 75, 67, 84, 99, 91, 86, 77, 60,\n",
       "       63, 78, 95, 88, 73, 81, 69, 67, 75, 80, 79, 75, 71, 66, 57, 68, 78,\n",
       "       76, 68, 67, 63, 56, 66, 81, 79, 67, 64, 54, 52, 64, 70, 83, 75, 69,\n",
       "       61, 57, 68, 75, 68, 66, 63, 55, 53, 62, 69, 66, 65, 62, 61, 57, 61,\n",
       "       73, 77, 69, 74, 63, 52, 57, 65, 65, 61, 66, 56, 54, 64, 72, 75, 69,\n",
       "       69, 61, 49, 56, 62, 60, 53, 49, 53, 41, 50, 55, 53, 47, 47, 41, 37,\n",
       "       44, 45, 43, 47, 40, 34, 32, 41, 42, 39, 35, 36, 36, 33, 37, 35, 26,\n",
       "       22, 23, 28, 29, 38, 39, 38, 36, 32, 28, 29, 35, 33, 34, 32, 31, 27,\n",
       "       28, 35, 36, 34, 32, 35, 31, 27, 33, 32, 30, 32, 29, 28, 28, 33, 31,\n",
       "       32, 32, 29, 27, 28, 31, 34, 32, 32, 32, 25, 24, 30, 33, 29, 28, 25,\n",
       "       23, 25, 32, 31, 30, 32, 27, 22, 22, 29, 27, 28, 29, 24, 21, 21, 29,\n",
       "       29, 29, 30, 27, 26, 25, 32, 30, 31, 30, 28, 24, 24, 31, 33, 30, 28,\n",
       "       26, 24, 25, 39, 33, 30, 30, 30, 28, 30, 35, 35, 35, 33, 31, 25, 25,\n",
       "       31, 29, 22, 24, 26, 24, 25, 29, 28, 22], dtype=object)"
      ]
     },
     "execution_count": 34,
     "metadata": {},
     "output_type": "execute_result"
    }
   ],
   "source": [
    "X = data[:,1]\n",
    "y = data[:,-1]\n",
    "y"
   ]
  },
  {
   "cell_type": "code",
   "execution_count": 35,
   "metadata": {},
   "outputs": [
    {
     "name": "stdout",
     "output_type": "stream",
     "text": [
      "기울기 (beta1): 1.3695501118896156, 절편 (beta0) : 22.845160616391098\n"
     ]
    }
   ],
   "source": [
    "#step2 비용을 계산하고 업데이트\n",
    "mean_x = np.mean(X)\n",
    "mean_y = np.mean(y)\n",
    "\n",
    "#X 변수가 가진 개수\n",
    "n = len(X)\n",
    "\n",
    "# 최소 제곱법 beta(), beta1\n",
    "temp01 = 0\n",
    "temp02 = 0\n",
    "\n",
    "for i in range(n):\n",
    "    temp01 += (X[i] - mean_x)* (y[i]-mean_y)\n",
    "    temp02 += (X[i] - mean_x)**2\n",
    "    \n",
    "beta1 = temp01 / temp02\n",
    "beta0 = mean_y - (beta1 * mean_x)\n",
    "\n",
    "print(\"기울기 (beta1): {0}, 절편 (beta0) : {1}\".format(beta1, beta0))"
   ]
  },
  {
   "cell_type": "code",
   "execution_count": 36,
   "metadata": {},
   "outputs": [
    {
     "data": {
      "image/png": "[encoded data removed]",
      "text/plain": [
       "<Figure size 432x288 with 1 Axes>"
      ]
     },
     "metadata": {
      "needs_background": "light"
     },
     "output_type": "display_data"
    }
   ],
   "source": [
    "#step3 시각화\n",
    "Y_pred = beta0 + beta1 * X\n",
    "plt.title(\"avg_temp,Clicks\")\n",
    "plt.xlabel(\"AVG temp\")\n",
    "plt.ylabel(\"clicks\")\n",
    "\n",
    "plt.scatter(X,y)\n",
    "plt.plot(X,Y_pred, color = 'red')\n",
    "plt.axis([-4,30,30,100])\n",
    "plt.grid()\n",
    "plt.show()"
   ]
  },
  {
   "cell_type": "code",
   "execution_count": 80,
   "metadata": {},
   "outputs": [
    {
     "name": "stdout",
     "output_type": "stream",
     "text": [
      "1.3695501118896156\n",
      "22.845160616391098\n",
      "손실값 결과는? 13.932934996027768\n",
      "오늘의 기온 입력10\n",
      "오늘 아이스크림 클릭수는 100점을 기준으로 36.54066173528726 만큼 예상된다.\n"
     ]
    }
   ],
   "source": [
    "# 데이터 학습, 평가 데이터로 분리\n",
    "import pandas as pd\n",
    "df = pd.read_csv('res_ice.csv', encoding = 'euc-kr')\n",
    "\n",
    "#학습 데이터를 입력 변수, 출력 변수 나누기\n",
    "data = np.array(df)\n",
    "X = data[:,1]\n",
    "y = data[:,-1]\n",
    "\n",
    "#step2 비용을 계산하고 업데이트\n",
    "mean_x = np.mean(X)\n",
    "mean_y = np.mean(y)\n",
    "\n",
    "#X 변수가 가진 개수\n",
    "n = len(X)\n",
    "\n",
    "# 최소 제곱법 beta(), beta1\n",
    "temp01 = 0\n",
    "temp02 = 0\n",
    "\n",
    "for i in range(n):\n",
    "    temp01 += (X[i] - mean_x)* (y[i]-mean_y)\n",
    "    temp02 += (X[i] - mean_x)**2\n",
    "\n",
    "beta1 = temp01 / temp02\n",
    "beta0 = mean_y - (beta1 * mean_x)\n",
    "\n",
    "print(beta1)\n",
    "print(beta0)\n",
    "\n",
    "#step 3 오차율 -> 손실금액 평가하기\n",
    "def RMSE(beta0, beta1,x,y):\n",
    "    RMSE = np.sqrt(((y-(beta0 + beta1*x))**2).mean())\n",
    "    return RMSE\n",
    "\n",
    "res = RMSE(beta0,beta1,X,y)\n",
    "print(\"손실값 결과는? {0}\".format(res))\n",
    "\n",
    "#문제 해결 하기\n",
    "def My_Regression(beta0, beta1, X):\n",
    "    y_pred = beta0 + beta1 * X\n",
    "    return y_pred\n",
    "\n",
    "my_res = float(input (\"오늘의 기온 입력\"))\n",
    "\n",
    "predicted_value = My_Regression(beta0,beta1,my_res)\n",
    "print(\"오늘 아이스크림 클릭수는 100점을 기준으로 {0} 만큼 예상된다.\".format(predicted_value))"
   ]
  },
  {
   "cell_type": "code",
   "execution_count": 79,
   "metadata": {},
   "outputs": [
    {
     "name": "stdout",
     "output_type": "stream",
     "text": [
      "(273, 1) (92, 1) (273, 1) (92, 1)\n",
      "절대 평균 오차 :  9.421344844925162\n",
      "제곱 평균 오차 : 13.443876779992118\n",
      "오늘의 기온 입력10\n",
      "오늘 아이스크림 클릭수는 100점을 기준으로 [[36.50286265]] 만큼 예상된다.\n"
     ]
    }
   ],
   "source": [
    "# res_ice.csv를 이용해서 모델링을 구현하고 예측률도 확인하고 지표도 확인해 보자.\n",
    "import numpy as np\n",
    "import pandas as pd\n",
    "import matplotlib.pyplot as plt\n",
    "from sklearn.model_selection import train_test_split\n",
    "from sklearn.linear_model import *\n",
    "from sklearn.metrics import *\n",
    "\n",
    "\n",
    "#[1단계] 데이터 로드\n",
    "df = pd.read_csv('res_ice.csv', encoding = 'euc-kr')\n",
    "\n",
    "#[2단계] 전처리\n",
    "data = np.array(df)\n",
    "X = data[:,1].reshape(-1,1)\n",
    "y = data[:,-1].reshape(-1,1)\n",
    "\n",
    "#[3단계] 학습 데이터 분리\n",
    "X_train, X_test, y_train, y_test = train_test_split(X,y,test_size = 0.25, random_state = 10)\n",
    "print(X_train.shape, X_test.shape, y_train.shape, y_test.shape)\n",
    "\n",
    "#[4단계] 모델링\n",
    "model = LinearRegression()\n",
    "model.fit(X_train, y_train)\n",
    "\n",
    "y_pred = model.predict(X_test)\n",
    "\n",
    "#[5단계] 예측률\n",
    "mae = mean_absolute_error(y_test,y_pred) #오차값을 구해서 절대값을 평균\n",
    "rmae = np.sqrt(mean_squared_error(y_test, y_pred))  #오차값을 구해서 평균 제곱근을 구한값\n",
    "\n",
    "print('절대 평균 오차 : ', mae)\n",
    "print('제곱 평균 오차 :', rmae)\n",
    "\n",
    "#[6단계] 지표\n",
    "my_temp = float(input (\"오늘의 기온 입력\"))\n",
    "\n",
    "Y_pred = model.predict([[my_temp]])\n",
    "print(\"오늘 아이스크림 클릭수는 100점을 기준으로 {0} 만큼 예상된다.\".format(Y_pred))"
   ]
  },
  {
   "cell_type": "code",
   "execution_count": 88,
   "metadata": {},
   "outputs": [
    {
     "data": {
      "text/html": [
       "<div>\n",
       "<style scoped>\n",
       "    .dataframe tbody tr th:only-of-type {\n",
       "        vertical-align: middle;\n",
       "    }\n",
       "\n",
       "    .dataframe tbody tr th {\n",
       "        vertical-align: top;\n",
       "    }\n",
       "\n",
       "    .dataframe thead th {\n",
       "        text-align: right;\n",
       "    }\n",
       "</style>\n",
       "<table border=\"1\" class=\"dataframe\">\n",
       "  <thead>\n",
       "    <tr style=\"text-align: right;\">\n",
       "      <th></th>\n",
       "      <th>survived</th>\n",
       "      <th>pclass</th>\n",
       "      <th>age</th>\n",
       "      <th>sibsp</th>\n",
       "      <th>parch</th>\n",
       "      <th>female</th>\n",
       "      <th>male</th>\n",
       "      <th>town_C</th>\n",
       "      <th>town_Q</th>\n",
       "      <th>town_S</th>\n",
       "      <th>name</th>\n",
       "    </tr>\n",
       "  </thead>\n",
       "  <tbody>\n",
       "    <tr>\n",
       "      <th>0</th>\n",
       "      <td>0</td>\n",
       "      <td>3</td>\n",
       "      <td>22.0</td>\n",
       "      <td>1</td>\n",
       "      <td>0</td>\n",
       "      <td>0</td>\n",
       "      <td>1</td>\n",
       "      <td>0</td>\n",
       "      <td>0</td>\n",
       "      <td>1</td>\n",
       "      <td>Braund, Mr. Owen Harris</td>\n",
       "    </tr>\n",
       "    <tr>\n",
       "      <th>1</th>\n",
       "      <td>1</td>\n",
       "      <td>1</td>\n",
       "      <td>38.0</td>\n",
       "      <td>1</td>\n",
       "      <td>0</td>\n",
       "      <td>1</td>\n",
       "      <td>0</td>\n",
       "      <td>1</td>\n",
       "      <td>0</td>\n",
       "      <td>0</td>\n",
       "      <td>Cumings, Mrs. John Bradley (Florence Briggs Th...</td>\n",
       "    </tr>\n",
       "    <tr>\n",
       "      <th>2</th>\n",
       "      <td>1</td>\n",
       "      <td>3</td>\n",
       "      <td>26.0</td>\n",
       "      <td>0</td>\n",
       "      <td>0</td>\n",
       "      <td>1</td>\n",
       "      <td>0</td>\n",
       "      <td>0</td>\n",
       "      <td>0</td>\n",
       "      <td>1</td>\n",
       "      <td>Heikkinen, Miss. Laina</td>\n",
       "    </tr>\n",
       "    <tr>\n",
       "      <th>3</th>\n",
       "      <td>1</td>\n",
       "      <td>1</td>\n",
       "      <td>35.0</td>\n",
       "      <td>1</td>\n",
       "      <td>0</td>\n",
       "      <td>1</td>\n",
       "      <td>0</td>\n",
       "      <td>0</td>\n",
       "      <td>0</td>\n",
       "      <td>1</td>\n",
       "      <td>Futrelle, Mrs. Jacques Heath (Lily May Peel)</td>\n",
       "    </tr>\n",
       "    <tr>\n",
       "      <th>4</th>\n",
       "      <td>0</td>\n",
       "      <td>3</td>\n",
       "      <td>35.0</td>\n",
       "      <td>0</td>\n",
       "      <td>0</td>\n",
       "      <td>0</td>\n",
       "      <td>1</td>\n",
       "      <td>0</td>\n",
       "      <td>0</td>\n",
       "      <td>1</td>\n",
       "      <td>Allen, Mr. William Henry</td>\n",
       "    </tr>\n",
       "    <tr>\n",
       "      <th>...</th>\n",
       "      <td>...</td>\n",
       "      <td>...</td>\n",
       "      <td>...</td>\n",
       "      <td>...</td>\n",
       "      <td>...</td>\n",
       "      <td>...</td>\n",
       "      <td>...</td>\n",
       "      <td>...</td>\n",
       "      <td>...</td>\n",
       "      <td>...</td>\n",
       "      <td>...</td>\n",
       "    </tr>\n",
       "    <tr>\n",
       "      <th>886</th>\n",
       "      <td>0</td>\n",
       "      <td>2</td>\n",
       "      <td>27.0</td>\n",
       "      <td>0</td>\n",
       "      <td>0</td>\n",
       "      <td>0</td>\n",
       "      <td>1</td>\n",
       "      <td>0</td>\n",
       "      <td>0</td>\n",
       "      <td>1</td>\n",
       "      <td>Montvila, Rev. Juozas</td>\n",
       "    </tr>\n",
       "    <tr>\n",
       "      <th>887</th>\n",
       "      <td>1</td>\n",
       "      <td>1</td>\n",
       "      <td>19.0</td>\n",
       "      <td>0</td>\n",
       "      <td>0</td>\n",
       "      <td>1</td>\n",
       "      <td>0</td>\n",
       "      <td>0</td>\n",
       "      <td>0</td>\n",
       "      <td>1</td>\n",
       "      <td>Graham, Miss. Margaret Edith</td>\n",
       "    </tr>\n",
       "    <tr>\n",
       "      <th>888</th>\n",
       "      <td>0</td>\n",
       "      <td>3</td>\n",
       "      <td>NaN</td>\n",
       "      <td>1</td>\n",
       "      <td>2</td>\n",
       "      <td>1</td>\n",
       "      <td>0</td>\n",
       "      <td>0</td>\n",
       "      <td>0</td>\n",
       "      <td>1</td>\n",
       "      <td>Johnston, Miss. Catherine Helen \"Carrie\"</td>\n",
       "    </tr>\n",
       "    <tr>\n",
       "      <th>889</th>\n",
       "      <td>1</td>\n",
       "      <td>1</td>\n",
       "      <td>26.0</td>\n",
       "      <td>0</td>\n",
       "      <td>0</td>\n",
       "      <td>0</td>\n",
       "      <td>1</td>\n",
       "      <td>1</td>\n",
       "      <td>0</td>\n",
       "      <td>0</td>\n",
       "      <td>Behr, Mr. Karl Howell</td>\n",
       "    </tr>\n",
       "    <tr>\n",
       "      <th>890</th>\n",
       "      <td>0</td>\n",
       "      <td>3</td>\n",
       "      <td>32.0</td>\n",
       "      <td>0</td>\n",
       "      <td>0</td>\n",
       "      <td>0</td>\n",
       "      <td>1</td>\n",
       "      <td>0</td>\n",
       "      <td>1</td>\n",
       "      <td>0</td>\n",
       "      <td>Dooley, Mr. Patrick</td>\n",
       "    </tr>\n",
       "  </tbody>\n",
       "</table>\n",
       "<p>891 rows × 11 columns</p>\n",
       "</div>"
      ],
      "text/plain": [
       "     survived  pclass   age  sibsp  parch  female  male  town_C  town_Q  \\\n",
       "0           0       3  22.0      1      0       0     1       0       0   \n",
       "1           1       1  38.0      1      0       1     0       1       0   \n",
       "2           1       3  26.0      0      0       1     0       0       0   \n",
       "3           1       1  35.0      1      0       1     0       0       0   \n",
       "4           0       3  35.0      0      0       0     1       0       0   \n",
       "..        ...     ...   ...    ...    ...     ...   ...     ...     ...   \n",
       "886         0       2  27.0      0      0       0     1       0       0   \n",
       "887         1       1  19.0      0      0       1     0       0       0   \n",
       "888         0       3   NaN      1      2       1     0       0       0   \n",
       "889         1       1  26.0      0      0       0     1       1       0   \n",
       "890         0       3  32.0      0      0       0     1       0       1   \n",
       "\n",
       "     town_S                                               name  \n",
       "0         1                            Braund, Mr. Owen Harris  \n",
       "1         0  Cumings, Mrs. John Bradley (Florence Briggs Th...  \n",
       "2         1                             Heikkinen, Miss. Laina  \n",
       "3         1       Futrelle, Mrs. Jacques Heath (Lily May Peel)  \n",
       "4         1                           Allen, Mr. William Henry  \n",
       "..      ...                                                ...  \n",
       "886       1                              Montvila, Rev. Juozas  \n",
       "887       1                       Graham, Miss. Margaret Edith  \n",
       "888       1           Johnston, Miss. Catherine Helen \"Carrie\"  \n",
       "889       0                              Behr, Mr. Karl Howell  \n",
       "890       0                                Dooley, Mr. Patrick  \n",
       "\n",
       "[891 rows x 11 columns]"
      ]
     },
     "execution_count": 88,
     "metadata": {},
     "output_type": "execute_result"
    }
   ],
   "source": [
    "# 자료를 병합하고 싶을 때...\n",
    "import pandas as pd\n",
    "import seaborn as sns\n",
    "\n",
    "df = sns.load_dataset('titanic')\n",
    "\n",
    "tt = pd.read_csv('train.csv')\n",
    "\n",
    "rdf = df.drop(['deck','embark_town'],axis=1)\n",
    "ndf = rdf[['survived','pclass','sex','age','sibsp','parch','embarked']]\n",
    "\n",
    "gender = pd.get_dummies(ndf['sex'])\n",
    "ndf = pd.concat([ndf,gender],axis = 1)\n",
    "\n",
    "onehot_embarked = pd.get_dummies(ndf['embarked'], prefix = 'town')\n",
    "\n",
    "ndf = pd.concat([ndf,onehot_embarked], axis = 1)\n",
    "ndf.drop(['sex','embarked'], axis = 1, inplace = True)\n",
    "\n",
    "tt.columns = map(str.lower, tt.columns)\n",
    "tt.columns\n",
    "\n",
    "df2 = pd.concat([ndf,tt['name']],axis = 1)\n",
    "df2"
   ]
  }
 ],
 "metadata": {
  "kernelspec": {
   "display_name": "Python 3",
   "language": "python",
   "name": "python3"
  },
  "language_info": {
   "codemirror_mode": {
    "name": "ipython",
    "version": 3
   },
   "file_extension": ".py",
   "mimetype": "text/x-python",
   "name": "python",
   "nbconvert_exporter": "python",
   "pygments_lexer": "ipython3",
   "version": "3.8.5"
  }
 },
 "nbformat": 4,
 "nbformat_minor": 4
}
