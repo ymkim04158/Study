{
 "cells": [
  {
   "cell_type": "markdown",
   "metadata": {},
   "source": [
    "머신러닝\n",
    "1. 데이터 분석\n",
    "  - 임의의 데이터들 간에 관계를 파악, 파악한 관계도를 가지고 새로운 출력 데이터를 생성하는 과정\n",
    "  - 예측, 클러스트, 모사 등\n",
    "  1-1. 예측\n",
    "    - 숫자, 문서, 이미지, 영상, 음성등의 데이터를 분석 ---> 다른 데이터로 출력\n",
    "    - 예측 모형\n",
    "      1.1.1  - 부동산의 위치, 주거환경, 건축연도 등 부동산 지리 탐색\n",
    "          .2  - 꽃잎의 길이와 너비등 식물에 외형적 특징을 주면 해당 식물의 종을 알아낸다.\n",
    "          .3 - 얼굴사진을 주면 해당하는 사람의 이름을 출력\n",
    "          .4 - 악보를 주면 악기의 기종에 따라 표현할 수 있는 소리를 알아낸다.\n",
    "    - 시간 추출 및 시간 설계가 포함되지 않는다. = 시계열 분석\n",
    "\n",
    "  1-2. 데이터 유형\n",
    "    - 입력 데이터 : 분석의 기반이 데이터로 X로 표현\n",
    "                         (독립변수 _ independent, 특징_feature, 설명변수_explanatory)\n",
    "\n",
    "    - 출력 데이터 : 목적 데이터 Y로 표현\n",
    "                         (종속변수 _dependent : 결과가 분류가 되어 있으면 label, class)\n",
    "\n",
    "  1-3. 예측 문제 방법\n",
    "    - rule- based = 입력데이터 + 규칙(알고리즘) -> 출력 [소량의 데이터/정형 데이터]\n",
    "                         [ 영어 단어 사전 ]\n",
    "    - data- based = traing - based(학습 기반) = 입력데이터 + 컴퓨터 규칙 -> 출력 [대량의 데이터/비정형]\n",
    "                         [ 번역시스템 ]\n",
    "                         = 학습용 데이터 집합(입력, 목표값) = 지도학습(supervised)\n",
    "                         = 지도학습의 명확성을 학습용 데이터의 양과 질에 의존한다.\n",
    "                         = 지도학습의 목표는 주어진 목표값과 비슷하거나 동일한 값을 출력하는 예측 방법\n",
    "\n",
    "        ex) 얼굴사진(X) 주면 해당하는 사람의 이름을 출력(Y)\n",
    "             a[홍길동], b[정길동], c[최길동]\n",
    "\n",
    "=======================================================================\n",
    "2. 지도학습과 비지도학습\n",
    "  지도학습 : 회기 _선형, 비선형, 서포트 벡터, 결정트리, 신경망 등\n",
    "  비지도학습 : 군집(k-Means), 계층군집, 기댓값, 시각화 차원축소, 연관 규칙학습 등\n",
    "\n",
    "3. 머신러닝, 딥러닝, 강화학습\n",
    " - scipy(사이파이) : 고급 수학함수, 수치 함수, 적분, 미적분 방정식계산 _최적화, 신호처리\n",
    " - matplotlib : 시각화\n",
    " - seaborn : 시각화 + 통계차트  import seaborn as sns\n",
    " - statsmodels(스태츠 모델) 패키지 : 샘플 데이터, 회귀분석, 모의 검정, 이산 종속변수, 시계열 분석 등등\n",
    "                                 영상이미지(상태공간 모형, 벡터 AR 모형)\n",
    " - scikit-learn(사이킷런) : 데이터 셋(회귀분석, 분류, 클러스트용 데이터 셋),\n",
    "                                   전처리(스케일링, 결손치, 텍스트 토큰화), 지도학습, 비지도학습, 교차검증\n",
    " - missingno(패키지) : 판다스에서 데이터 결손치를 빠르게 찾아 시각화\n",
    " - 텍스트 전처리기용 패키지 : nltk -> spacy -> konlpy -> soynlp -> gensim\n",
    " - opencv : 이미지처리\n",
    " - librosa : 사운드 전처리\n",
    " - geopandas : 지리정보 전처리\n"
   ]
  },
  {
   "cell_type": "code",
   "execution_count": 11,
   "metadata": {},
   "outputs": [
    {
     "data": {
      "text/plain": [
       "11314"
      ]
     },
     "execution_count": 11,
     "metadata": {},
     "output_type": "execute_result"
    }
   ],
   "source": [
    "from sklearn.datasets import fetch_20newsgroups  #문서 표본 데이터\n",
    "\n",
    "#1. 카테고리\n",
    "categories = ['alt.atheism', 'soc.religion.christian', 'comp.graphics', 'sci.med']\n",
    "\n",
    "#2. 데이터 셋을 구현할 파일을 받자\n",
    "#twenty_train = fetch_20newsgroups(subset='train', categories=categories, shuffle=True, random_state=42)\n",
    "twenty_train = fetch_20newsgroups()\n",
    "\n",
    "#3. 이름을 확인\n",
    "twenty_train.target_names\n",
    "\n",
    "#4. 개수를 리턴 받아\n",
    "len(twenty_train.data)\n",
    "#print(type(twenty_train.data))"
   ]
  },
  {
   "cell_type": "code",
   "execution_count": 12,
   "metadata": {},
   "outputs": [
    {
     "name": "stdout",
     "output_type": "stream",
     "text": [
      "확인  From: lerxst@wam.umd.edu (where's my thing)\n",
      "Subject: WHAT car is this!?\n",
      "Nntp-Posting-Host: rac3.wam.umd.edu\n",
      "Organization: University of Maryland, College Park\n",
      "Lines: 15\n",
      "\n",
      " I was wondering if anyone out there could enlighten me on this car I saw\n",
      "the other day. It was a 2-door sports car, looked to be from the late 60s/\n",
      "early 70s. It was called a Bricklin. The doors were really small. In addition,\n",
      "the front bumper was separate from the rest of the body. This is \n",
      "all I know. If anyone can tellme a model name, engine specs, years\n",
      "of production, where this car is made, history, or whatever info you\n",
      "have on this funky looking car, please e-mail.\n",
      "\n",
      "Thanks,\n",
      "- IL\n",
      "   ---- brought to you by your neighborhood Lerxst ----\n",
      "\n",
      "\n",
      "\n",
      "\n",
      "\n",
      "매핑  rec.autos\n"
     ]
    }
   ],
   "source": [
    "#5. data를 인덱스 확인\n",
    "print(\"확인 \", twenty_train.data[0])\n",
    "print(\"매핑 \", twenty_train.target_names[twenty_train.target[0]])"
   ]
  },
  {
   "cell_type": "code",
   "execution_count": 13,
   "metadata": {},
   "outputs": [
    {
     "name": "stdout",
     "output_type": "stream",
     "text": [
      "rec.autos\n",
      "comp.sys.mac.hardware\n",
      "comp.sys.mac.hardware\n",
      "comp.graphics\n",
      "sci.space\n",
      "talk.politics.guns\n",
      "sci.med\n",
      "comp.sys.ibm.pc.hardware\n",
      "comp.os.ms-windows.misc\n",
      "comp.sys.mac.hardware\n"
     ]
    }
   ],
   "source": [
    "for t in twenty_train.target[:10]:\n",
    "    print(twenty_train.target_names[t])"
   ]
  },
  {
   "cell_type": "code",
   "execution_count": 14,
   "metadata": {},
   "outputs": [
    {
     "data": {
      "text/plain": [
       "(100, 6547)"
      ]
     },
     "execution_count": 14,
     "metadata": {},
     "output_type": "execute_result"
    }
   ],
   "source": [
    "from sklearn.feature_extraction.text import CountVectorizer # 문서 데이터를 벡터로 변환\n",
    "count_vect = CountVectorizer()\n",
    "X_train_counts = count_vect.fit_transform(twenty_train.data[:100])\n",
    "X_train_counts.shape"
   ]
  },
  {
   "cell_type": "code",
   "execution_count": 19,
   "metadata": {},
   "outputs": [
    {
     "data": {
      "image/png": "[encoded data removed]",
      "text/plain": [
       "<Figure size 432x288 with 2 Axes>"
      ]
     },
     "metadata": {
      "needs_background": "light"
     },
     "output_type": "display_data"
    }
   ],
   "source": [
    "import seaborn as sns\n",
    "import matplotlib.pyplot as plt\n",
    "sns.heatmap(X_train_counts.toarray()[:40,:100],cmap = plt.cm.bone_r,linewidths = 0.001, linecolor = 'gray')  #40개의 문서와 100가지 단어를 추출\n",
    "plt.xlabel(\"단어\")\n",
    "plt.ylabel(\"문서\")\n",
    "plt.show()"
   ]
  }
 ],
 "metadata": {
  "kernelspec": {
   "display_name": "Python 3",
   "language": "python",
   "name": "python3"
  },
  "language_info": {
   "codemirror_mode": {
    "name": "ipython",
    "version": 3
   },
   "file_extension": ".py",
   "mimetype": "text/x-python",
   "name": "python",
   "nbconvert_exporter": "python",
   "pygments_lexer": "ipython3",
   "version": "3.8.5"
  }
 },
 "nbformat": 4,
 "nbformat_minor": 4
}
