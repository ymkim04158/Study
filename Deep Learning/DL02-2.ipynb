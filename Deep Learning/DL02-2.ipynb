{
 "cells": [
  {
   "cell_type": "code",
   "execution_count": 4,
   "metadata": {},
   "outputs": [
    {
     "data": {
      "image/png": "[encoded data removed]",
      "text/plain": [
       "<Figure size 432x288 with 1 Axes>"
      ]
     },
     "metadata": {
      "needs_background": "light"
     },
     "output_type": "display_data"
    }
   ],
   "source": [
    "import  tensorflow  as  tf\n",
    "from matplotlib import pyplot as plt\n",
    "tf.executing_eagerly()  # 계산 그래프를 즉시 실행 executing_eagerly 사용\n",
    "x  =  tf . constant (3.0 )  \n",
    "with  tf . GradientTape ()  as  g :  # with 내부 계산을 기록\n",
    "   g . watch ( x )  # x를 기록\n",
    "   y  =  2  *  x  # 미분 방정식\n",
    "g.gradient( y ,  x ).numpy()  # x = 3 일 때의 y 기울기를 구한다. \n",
    "fig = plt.figure()  # 그림그리는 바탕을 fig로 만들겠다.\n",
    "ax = fig.add_subplot(1, 1, 1)\n",
    "ax.spines['left'].set_position('zero')\n",
    "ax.spines['bottom'].set_position('zero')\n",
    "ax.spines['right'].set_color('none')\n",
    "ax.spines['top'].set_color('none')\n",
    "ax.xaxis.set_ticks_position('bottom')\n",
    "ax.yaxis.set_ticks_position('left')\n",
    "plt.plot(x, y, '-b', label='w1')\n",
    "plt.xlim(-5, 5)  # x 축의 눈금숫자의 시작과 마지막\n",
    "plt.ylim(-5, 5)  # y 축의 눈금숫자의 시작과 마지막\n",
    "plt.title('Graph of w')\n",
    "plt.xlabel('x', color='#1C2833')  # x의 라벨 색깔\n",
    "plt.ylabel('y', color='#1C2833')  # y의 라벨 색깔\n",
    "plt.legend(loc='upper left')  # 레전드가 왼쪽에 나오게\n",
    "plt.grid()  # 격자모양출력\n",
    "plt.show()"
   ]
  },
  {
   "cell_type": "code",
   "execution_count": null,
   "metadata": {},
   "outputs": [],
   "source": [
    "x = np.linspace(-2,2,50) # 직선의 시작점 끝점을 정해 두고 균일한 가격을 지정\n",
    "y = -(x*w[1]/w[2]) + (w[0]/w[2]) # 최종 가중치의 직선의 방정식\n",
    "\n",
    "fig = plt.figure()  # 그림그리는 바탕을 fig로 만들겠다.\n",
    "ax = fig.add_subplot(1, 1, 1)\n",
    "ax.spines['left'].set_position('zero')\n",
    "ax.spines['bottom'].set_position('zero')\n",
    "ax.spines['right'].set_color('none')\n",
    "ax.spines['top'].set_color('none')\n",
    "ax.xaxis.set_ticks_position('bottom')\n",
    "ax.yaxis.set_ticks_position('left')\n",
    "plt.plot(x, y, '-b', label='w1')\n",
    "plt.xlim(-5, 5)  # x 축의 눈금숫자의 시작과 마지막\n",
    "plt.ylim(-5, 5)  # y 축의 눈금숫자의 시작과 마지막\n",
    "plt.title('Graph of w')\n",
    "plt.xlabel('x', color='#1C2833')  # x의 라벨 색깔\n",
    "plt.ylabel('y', color='#1C2833')  # y의 라벨 색깔\n",
    "plt.legend(loc='upper left')  # 레전드가 왼쪽에 나오게\n",
    "plt.grid()  # 격자모양출력\n",
    "plt.show()"
   ]
  },
  {
   "cell_type": "code",
   "execution_count": 3,
   "metadata": {},
   "outputs": [
    {
     "data": {
      "text/plain": [
       "2.0"
      ]
     },
     "execution_count": 3,
     "metadata": {},
     "output_type": "execute_result"
    }
   ],
   "source": [
    "import tensorflow as tf\n",
    "\n",
    "tf.executing_eagerly() # 계산 그래프를 즉시 실행 executing_eagerly 사용\n",
    "\n",
    "x = tf.constant(3.0)\n",
    "\n",
    "with tf. GradientTape () as g : #with 내부 계산을 기록\n",
    "    g.watch(x)  #x를 기록\n",
    "    y = 2 * x  #미분 방정식\n",
    "    \n",
    "g.gradient(y,x).numpy()  # x = 3일 때의 y의 기울기를 구한다."
   ]
  },
  {
   "cell_type": "code",
   "execution_count": 5,
   "metadata": {},
   "outputs": [
    {
     "data": {
      "text/plain": [
       "6.0"
      ]
     },
     "execution_count": 5,
     "metadata": {},
     "output_type": "execute_result"
    }
   ],
   "source": [
    "x = tf.Variable(3.0)\n",
    "\n",
    "with tf.GradientTape() as g:\n",
    "    y = x * x\n",
    "    \n",
    "g.gradient(y,x).numpy()             "
   ]
  },
  {
   "cell_type": "code",
   "execution_count": 6,
   "metadata": {},
   "outputs": [
    {
     "name": "stdout",
     "output_type": "stream",
     "text": [
      "n = -3.0 : gradient = 2.0\n",
      "n = 0.0 : gradient = 2.0\n",
      "n = 3.0 : gradient = 27.0\n"
     ]
    }
   ],
   "source": [
    "def with_if(x):\n",
    "    if x <= 0:\n",
    "        return x * 2  #기울기가 2\n",
    "    else:\n",
    "        return x * x * x  # 3*x*x\n",
    "    \n",
    "def with_if_gradient(n):\n",
    "    x = tf.Variable(n)\n",
    "    with tf.GradientTape() as g:\n",
    "        y = with_if(x)\n",
    "    print('n = %.1f : gradient = %.1f'%(n,g.gradient(y,x)))\n",
    "    \n",
    "with_if_gradient(-3.0)\n",
    "with_if_gradient(0.0)\n",
    "with_if_gradient(3.0)"
   ]
  },
  {
   "cell_type": "code",
   "execution_count": 9,
   "metadata": {},
   "outputs": [
    {
     "data": {
      "text/plain": [
       "[<tf.Tensor: shape=(), dtype=float32, numpy=5.0>,\n",
       " [<tf.Tensor: shape=(), dtype=float32, numpy=6.0>]]"
      ]
     },
     "execution_count": 9,
     "metadata": {},
     "output_type": "execute_result"
    }
   ],
   "source": [
    "a = tf.Variable(3.0)\n",
    "b = tf.Variable(4.0)\n",
    "\n",
    "with tf.GradientTape() as g:\n",
    "    f = a ** 2 + 5 * b  #다변량 미분 공식\n",
    "    \n",
    "g.gradient(f,[b,[a]])"
   ]
  },
  {
   "cell_type": "code",
   "execution_count": 10,
   "metadata": {},
   "outputs": [
    {
     "data": {
      "image/png": "[encoded data removed]",
      "text/plain": [
       "<Figure size 432x288 with 1 Axes>"
      ]
     },
     "metadata": {
      "needs_background": "light"
     },
     "output_type": "display_data"
    }
   ],
   "source": [
    "def test(x,y):\n",
    "    fig = plt.figure()  # 그림그리는 바탕을 fig로 만들겠다.\n",
    "    ax = fig.add_subplot(1, 1, 1)\n",
    "    ax.spines['left'].set_position('zero')\n",
    "    ax.spines['bottom'].set_position('zero')\n",
    "    ax.spines['right'].set_color('none')\n",
    "    ax.spines['top'].set_color('none')\n",
    "    ax.xaxis.set_ticks_position('bottom')\n",
    "    ax.yaxis.set_ticks_position('left')\n",
    "    plt.plot(x, y, '-b', label='w1')\n",
    "    plt.xlim(-5, 5)  # x 축의 눈금숫자의 시작과 마지막\n",
    "    plt.ylim(-5, 5)  # y 축의 눈금숫자의 시작과 마지막\n",
    "    plt.title('Graph of w')\n",
    "    plt.xlabel('x', color='#1C2833')  # x의 라벨 색깔\n",
    "    plt.ylabel('y', color='#1C2833')  # y의 라벨 색깔\n",
    "    plt.legend(loc='upper left')  # 레전드가 왼쪽에 나오게\n",
    "    plt.grid()  # 격자모양출력\n",
    "    plt.show()\n",
    "    \n",
    "x = [-3.0,0,3.0]\n",
    "y = [27,0,27]\n",
    "test(x,y)"
   ]
  },
  {
   "cell_type": "code",
   "execution_count": 18,
   "metadata": {},
   "outputs": [
    {
     "name": "stdout",
     "output_type": "stream",
     "text": [
      "KerasTensor(type_spec=TensorSpec(shape=(None, 8), dtype=tf.float32, name='dense_21_input'), name='dense_21_input', description=\"created by layer 'dense_21_input'\")\n",
      "[<KerasTensor: shape=(None, 8) dtype=float32 (created by layer 'dense_23')>]\n"
     ]
    }
   ],
   "source": [
    "#exam) 모델 생성\n",
    "from keras.models import Sequential\n",
    "from keras.layers import Dense, Activation, Dropout\n",
    "\n",
    "model = Sequential()\n",
    "#model.add(Dense(512, activation = 'relu', input_shape = (784,)))\n",
    "#model\n",
    "\n",
    "input_layer = Dense(32, input_shape = (8,)); model.add(input_layer)\n",
    "\n",
    "hidden_layer = Dense(64,activation = 'relu'); model.add(hidden_layer)\n",
    "\n",
    "output_layer = Dense(8); model.add(output_layer)\n",
    "\n",
    "layers = model.layers\n",
    "layers\n",
    "\n",
    "inputs = model.input  #모델의 모든 입력텐서 반환\n",
    "print(inputs)\n",
    "\n",
    "output = model.outputs\n",
    "print(output)\n",
    "#model.get_weights() - 모든 가중치를 Numpy 배열로 반환한다.\n",
    "#model.set_weights()"
   ]
  },
  {
   "cell_type": "code",
   "execution_count": 24,
   "metadata": {},
   "outputs": [
    {
     "name": "stdout",
     "output_type": "stream",
     "text": [
      "Model: \"sequential_7\"\n",
      "_________________________________________________________________\n",
      "Layer (type)                 Output Shape              Param #   \n",
      "=================================================================\n",
      "dense_21 (Dense)             (None, 32)                288       \n",
      "_________________________________________________________________\n",
      "dense_22 (Dense)             (None, 64)                2112      \n",
      "_________________________________________________________________\n",
      "dense_23 (Dense)             (None, 8)                 520       \n",
      "=================================================================\n",
      "Total params: 2,920\n",
      "Trainable params: 2,920\n",
      "Non-trainable params: 0\n",
      "_________________________________________________________________\n"
     ]
    }
   ],
   "source": [
    "from keras.models import model_from_json\n",
    "#모델의 직렬화\n",
    "config = model.get_config()\n",
    "config\n",
    "#로드\n",
    "json_string = model.to_json()\n",
    "json_string\n",
    "\n",
    "new_model = model_from_json(json_string)\n",
    "new_model\n",
    "\n",
    "#모델값을 문자열로\n",
    "res = model.to_yaml()\n",
    "res\n",
    "\n",
    "#모델을 요약\n",
    "model.summary()\n",
    "\n",
    "#모델 훈련 및 예측 : 컴파일(모델의 학습과정) -> fit(훈련데이터 모델 훈련) -> 평가(테스트 데이터 모델평가)\n",
    "#-> 예측(새로운 입력에 대한 결과를 예측)"
   ]
  },
  {
   "cell_type": "code",
   "execution_count": 30,
   "metadata": {},
   "outputs": [
    {
     "name": "stdout",
     "output_type": "stream",
     "text": [
      "KerasTensor(type_spec=TensorSpec(shape=(None, 2, 2), dtype=tf.float32, name=None), name='dense_27/BiasAdd:0', description=\"created by layer 'dense_27'\")\n",
      "Model: \"model\"\n",
      "_________________________________________________________________\n",
      "Layer (type)                 Output Shape              Param #   \n",
      "=================================================================\n",
      "input_5 (InputLayer)         [(None, 2, 3)]            0         \n",
      "_________________________________________________________________\n",
      "dense_27 (Dense)             (None, 2, 2)              8         \n",
      "=================================================================\n",
      "Total params: 8\n",
      "Trainable params: 8\n",
      "Non-trainable params: 0\n",
      "_________________________________________________________________\n"
     ]
    }
   ],
   "source": [
    "# 모델 생성 연습\n",
    "from keras.layers import Input\n",
    "from keras.models import *\n",
    "from keras.layers import Dense, Activation, Dropout\n",
    "\n",
    "data = Input(shape = (2,3))\n",
    "layer = Dense(2)(data)\n",
    "print(layer)\n",
    "\n",
    "model = Model(inputs = data, outputs = layer)\n",
    "model\n",
    "model.summary()"
   ]
  },
  {
   "cell_type": "code",
   "execution_count": null,
   "metadata": {},
   "outputs": [],
   "source": []
  },
  {
   "cell_type": "markdown",
   "metadata": {},
   "source": [
    "from tensorboardX import SummaryWriter\n",
    "from datetime import datetime\n",
    "from packaging import version\n",
    "\n",
    "summary = SummaryWriter()\n",
    "logdir=\"logs\\\\fit\\\\\" + datetime.now().strftime(\"%Y%m%d-%H%M%S\")\n",
    "tensorboard_callback = keras.callbacks.TensorBoard(log_dir=logdir)"
   ]
  },
  {
   "cell_type": "code",
   "execution_count": 40,
   "metadata": {},
   "outputs": [
    {
     "name": "stdout",
     "output_type": "stream",
     "text": [
      "Epoch 1/5\n",
      "4/4 [==============================] - 4s 425ms/step - loss: 11.6130 - accuracy: 0.0834 - val_loss: 11.4654 - val_accuracy: 0.1250\n",
      "Epoch 2/5\n",
      "4/4 [==============================] - 0s 16ms/step - loss: 11.6200 - accuracy: 0.1002 - val_loss: 11.4677 - val_accuracy: 0.1175\n",
      "Epoch 3/5\n",
      "4/4 [==============================] - 0s 17ms/step - loss: 11.6802 - accuracy: 0.1059 - val_loss: 11.4702 - val_accuracy: 0.1200\n",
      "Epoch 4/5\n",
      "4/4 [==============================] - 0s 15ms/step - loss: 11.6920 - accuracy: 0.1321 - val_loss: 11.4742 - val_accuracy: 0.1100\n",
      "Epoch 5/5\n",
      "4/4 [==============================] - 0s 18ms/step - loss: 11.6395 - accuracy: 0.1162 - val_loss: 11.4793 - val_accuracy: 0.1150\n"
     ]
    },
    {
     "data": {
      "text/plain": [
       "'\\nloss : 훈련손실값\\naccuracy : 훈련 정확도\\nval_loss : 검증 손실값\\nval_accuracy : 검증 정확도\\n'"
      ]
     },
     "execution_count": 40,
     "metadata": {},
     "output_type": "execute_result"
    }
   ],
   "source": [
    "from tensorboardX import SummaryWriter\n",
    "from datetime import datetime\n",
    "from packaging import version\n",
    "\n",
    "#간단한 모델 컴파일 해보자.\n",
    "import numpy as np\n",
    "from keras.layers import Input, Dense, Activation, Dropout, LSTM\n",
    "from keras.models import *\n",
    "import keras\n",
    "\n",
    "summary = SummaryWriter()\n",
    "logdir=\"logs\\\\fit\\\\\" + datetime.now().strftime(\"%Y%m%d-%H%M%S\")\n",
    "tensorboard_callback = keras.callbacks.TensorBoard(log_dir=logdir)\n",
    "\n",
    "#임의의 데이터\n",
    "x_train = np.random.random((100,4,8))\n",
    "y_train = np.random.random((100,4,10))\n",
    "\n",
    "#임의의 유효ㅗ성 검사 데이터\n",
    "x_val = np.random.random((100,4,8))\n",
    "y_val = np.random.random((100,4,10))\n",
    "\n",
    "#순차 모델링\n",
    "model = Sequential()\n",
    "\n",
    "#모델 추가, 레이어 추가\n",
    "model.add(LSTM(16,return_sequences = True)) #순환신경망 모델\n",
    "model.add(Dense(10,activation = 'softmax'))\n",
    "\n",
    "#모델 컴파일\n",
    "model.compile(loss = 'categorical_crossentropy', optimizer = 'sgd', metrics = ['accuracy'])\n",
    "\n",
    "#데이터 훈련\n",
    "hist = model.fit(x_train,y_train,batch_size = 32, epochs = 5, validation_data = (x_val, y_val),callbacks = [tensorboard_callback])\n",
    "\n",
    "#fit() 히스토리 기능\n",
    "'''\n",
    "loss : 훈련손실값\n",
    "accuracy : 훈련 정확도\n",
    "val_loss : 검증 손실값\n",
    "val_accuracy : 검증 정확도\n",
    "'''"
   ]
  },
  {
   "cell_type": "code",
   "execution_count": 37,
   "metadata": {},
   "outputs": [
    {
     "data": {
      "image/png": "[encoded data removed]",
      "text/plain": [
       "<Figure size 432x288 with 2 Axes>"
      ]
     },
     "metadata": {
      "needs_background": "light"
     },
     "output_type": "display_data"
    }
   ],
   "source": [
    "import matplotlib.pyplot as plt\n",
    "fig, loss_ax = plt.subplots()\n",
    "acc_ax = loss_ax.twinx()\n",
    "loss_ax.plot(hist.history['loss'], 'y', label='train loss')\n",
    "loss_ax.plot(hist.history['val_loss'], 'r', label='val loss')\n",
    "acc_ax.plot(hist.history['accuracy'], 'b', label='train acc')\n",
    "acc_ax.plot(hist.history['val_accuracy'], 'g', label='val acc')\n",
    "loss_ax.set_xlabel('epoch')\n",
    "loss_ax.set_ylabel('loss')\n",
    "acc_ax.set_ylabel('accuray')\n",
    "loss_ax.legend(loc='upper left')\n",
    "acc_ax.legend(loc='lower left')\n",
    "plt.show()"
   ]
  },
  {
   "cell_type": "markdown",
   "metadata": {},
   "source": [
    "One-Hot Encoding : 사람이 인식할 수 있는 데이터를 숫자로 변환정렬시켜서\n",
    "컴퓨터에 주입시킨다.\n",
    "\n",
    "Data -> 숫자\n",
    "단어 -> 숫자\n",
    "딥러닝 -> 문자열 -> 분철 -> 숫자인덱싱 -> 원핫 인코딩\n"
   ]
  },
  {
   "cell_type": "code",
   "execution_count": 42,
   "metadata": {},
   "outputs": [
    {
     "name": "stdout",
     "output_type": "stream",
     "text": [
      "{'저는': 1, '긴': 2, '휴일을': 3, '좋아합니다': 4, '그': 5, '중': 6, '목요일을': 7, '가장': 8, '좋아한다': 9}\n"
     ]
    }
   ],
   "source": [
    "import tensorflow as tf\n",
    "from tensorflow.keras.preprocessing.text import Tokenizer\n",
    "str = \"저는 긴 휴일을 좋아합니다. 그 중 목요일을 가장 좋아한다.\"\n",
    "tokenizer = Tokenizer()\n",
    "tokenizer.fit_on_texts([str])\n",
    "print(tokenizer.word_index)"
   ]
  },
  {
   "cell_type": "code",
   "execution_count": 45,
   "metadata": {},
   "outputs": [
    {
     "name": "stdout",
     "output_type": "stream",
     "text": [
      "[1, 2, 3, 4, 5, 6, 7, 8, 9]\n"
     ]
    }
   ],
   "source": [
    "encode = tokenizer.texts_to_sequences([str])[0]\n",
    "print(encode)"
   ]
  },
  {
   "cell_type": "code",
   "execution_count": 46,
   "metadata": {},
   "outputs": [
    {
     "name": "stdout",
     "output_type": "stream",
     "text": [
      "[[0. 1. 0. 0. 0. 0. 0. 0. 0. 0.]\n",
      " [0. 0. 1. 0. 0. 0. 0. 0. 0. 0.]\n",
      " [0. 0. 0. 1. 0. 0. 0. 0. 0. 0.]\n",
      " [0. 0. 0. 0. 1. 0. 0. 0. 0. 0.]\n",
      " [0. 0. 0. 0. 0. 1. 0. 0. 0. 0.]\n",
      " [0. 0. 0. 0. 0. 0. 1. 0. 0. 0.]\n",
      " [0. 0. 0. 0. 0. 0. 0. 1. 0. 0.]\n",
      " [0. 0. 0. 0. 0. 0. 0. 0. 1. 0.]\n",
      " [0. 0. 0. 0. 0. 0. 0. 0. 0. 1.]]\n"
     ]
    }
   ],
   "source": [
    "onehot = tf.keras.utils.to_categorical(encode)\n",
    "print(onehot)"
   ]
  },
  {
   "cell_type": "code",
   "execution_count": 47,
   "metadata": {},
   "outputs": [],
   "source": [
    "#exam) 모델링 학습을 해보자.\n",
    "import pandas as pd\n",
    "import numpy as np\n",
    "from keras.models import Sequential\n",
    "from keras.layers import Dense\n",
    "from keras.layers import Dropout\n",
    "from keras.layers import Flatten\n",
    "from keras.layers import Activation\n",
    "from keras.layers.convolutional import Conv2D\n",
    "from keras.layers.convolutional import MaxPooling2D\n",
    "from keras.optimizers import Adam\n",
    "from keras.utils import np_utils\n",
    "from keras import backend as K\n",
    "from sklearn.utils import shuffle\n",
    "import tensorflow as tf"
   ]
  },
  {
   "cell_type": "code",
   "execution_count": 64,
   "metadata": {},
   "outputs": [],
   "source": [
    "#1. 데이터 로드\n",
    "test = pd.read_csv(\"test.csv\")\n",
    "train = pd.read_csv(\"train.csv\")\n",
    "\n",
    "train_x = train.drop(\"Survived\", axis=1)\n",
    "train_y = train[\"Survived\"]\n",
    "test_x = test\n",
    "\n",
    "#결측값 삭제하기\n",
    "train_x = train_x.drop([\"Name\", \"Ticket\",\"Cabin\"], axis = 1)\n",
    "test_x = test_x.drop([\"Name\", \"Ticket\",\"Cabin\"], axis = 1)\n",
    "\n",
    "#train 결측값 채우기\n",
    "train_age_median = train_x[\"Age\"].median()\n",
    "train_x[\"Age\"] = train_x[\"Age\"].fillna(train_age_median)\n",
    "train_x[\"Embarked\"] = train_x[\"Embarked\"].fillna(\"S\")\n",
    "\n",
    "#test 결측값 채우기\n",
    "test_age_median = test_x[\"Age\"].median()\n",
    "test_x[\"Age\"] = test_x[\"Age\"].fillna(test_age_median)\n",
    "\n",
    "test_x[\"Fare\"] = test_x[\"Fare\"].fillna(test_x[\"Fare\"].describe()[5])\n",
    "\n",
    "#더미 컬럼 생성\n",
    "train_x_dummy = pd.get_dummies(train_x, columns = [\"Sex\",\"Embarked\"])\n",
    "test_x_dummy = pd.get_dummies(test_x, columns = [\"Sex\",\"Embarked\"])\n",
    "\n",
    "#one-hot\n",
    "train_y_onehot = np_utils.to_categorical(train_y)\n",
    "\n",
    "train_x_dummy_array = train_x_dummy.values.astype(\"float32\")\n",
    "\n"
   ]
  },
  {
   "cell_type": "code",
   "execution_count": 67,
   "metadata": {},
   "outputs": [
    {
     "name": "stdout",
     "output_type": "stream",
     "text": [
      "Epoch 1/10\n",
      "28/28 [==============================] - 1s 996us/step - loss: 0.4544 - recall_4: 0.5359\n",
      "Epoch 2/10\n",
      "28/28 [==============================] - 0s 960us/step - loss: 0.3613 - recall_4: 0.6361\n",
      "Epoch 3/10\n",
      "28/28 [==============================] - 0s 997us/step - loss: 0.3745 - recall_4: 0.6242\n",
      "Epoch 4/10\n",
      "28/28 [==============================] - 0s 1ms/step - loss: 0.4079 - recall_4: 0.5859\n",
      "Epoch 5/10\n",
      "28/28 [==============================] - 0s 923us/step - loss: 0.3927 - recall_4: 0.5932\n",
      "Epoch 6/10\n",
      "28/28 [==============================] - 0s 997us/step - loss: 0.3945 - recall_4: 0.5986\n",
      "Epoch 00006: early stopping\n"
     ]
    }
   ],
   "source": [
    "#2. 모델 생산\n",
    "from tensorflow.keras import layers\n",
    "model = tf.keras.Sequential()\n",
    "model.add(layers.Dense(64, activation = 'relu'))\n",
    "model.add(layers.Dense(64, activation = 'relu'))\n",
    "model.add(layers.Dense(2, activation = 'softmax'))\n",
    "\n",
    "#3. 컴파일\n",
    "model.compile(optimizer = 'rmsprop', loss = 'categorical_crossentropy', metrics = ['accuracy'])\n",
    "model.compile(optimizer = 'sgd', loss = 'mse', metrics = [tf.keras.metrics.Recall()])\n",
    "\n",
    "#4.fit()\n",
    "mycall = tf.keras.callbacks.EarlyStopping(monitor = 'loss', patience = 2, verbose = 1, mode = 'auto')\n",
    "model.fit(train_x_dummy_array, train_y_onehot,epochs = 10, batch_size = 32,callbacks = [mycall])\n",
    "\n",
    "#5. 저장\n",
    "model.save(\"res.h5\")\n"
   ]
  },
  {
   "cell_type": "code",
   "execution_count": 68,
   "metadata": {},
   "outputs": [
    {
     "ename": "ValueError",
     "evalue": "Dataset(s) incompatible with Pandas data types, not table, or no datasets found in HDF5 file.",
     "output_type": "error",
     "traceback": [
      "\u001b[1;31m---------------------------------------------------------------------------\u001b[0m",
      "\u001b[1;31mValueError\u001b[0m                                Traceback (most recent call last)",
      "\u001b[1;32m<ipython-input-68-a7f7258a3e9e>\u001b[0m in \u001b[0;36m<module>\u001b[1;34m\u001b[0m\n\u001b[0;32m      1\u001b[0m \u001b[1;32mimport\u001b[0m \u001b[0mpandas\u001b[0m \u001b[1;32mas\u001b[0m \u001b[0mpd\u001b[0m\u001b[1;33m\u001b[0m\u001b[1;33m\u001b[0m\u001b[0m\n\u001b[1;32m----> 2\u001b[1;33m \u001b[0mres\u001b[0m \u001b[1;33m=\u001b[0m \u001b[0mpd\u001b[0m\u001b[1;33m.\u001b[0m\u001b[0mread_hdf\u001b[0m\u001b[1;33m(\u001b[0m\u001b[1;34m\"res.h5\"\u001b[0m\u001b[1;33m)\u001b[0m\u001b[1;33m\u001b[0m\u001b[1;33m\u001b[0m\u001b[0m\n\u001b[0m\u001b[0;32m      3\u001b[0m \u001b[0mres\u001b[0m\u001b[1;33m\u001b[0m\u001b[1;33m\u001b[0m\u001b[0m\n",
      "\u001b[1;32mC:\\ProgramData\\Anaconda3\\lib\\site-packages\\pandas\\io\\pytables.py\u001b[0m in \u001b[0;36mread_hdf\u001b[1;34m(path_or_buf, key, mode, errors, where, start, stop, columns, iterator, chunksize, **kwargs)\u001b[0m\n\u001b[0;32m    396\u001b[0m             \u001b[0mgroups\u001b[0m \u001b[1;33m=\u001b[0m \u001b[0mstore\u001b[0m\u001b[1;33m.\u001b[0m\u001b[0mgroups\u001b[0m\u001b[1;33m(\u001b[0m\u001b[1;33m)\u001b[0m\u001b[1;33m\u001b[0m\u001b[1;33m\u001b[0m\u001b[0m\n\u001b[0;32m    397\u001b[0m             \u001b[1;32mif\u001b[0m \u001b[0mlen\u001b[0m\u001b[1;33m(\u001b[0m\u001b[0mgroups\u001b[0m\u001b[1;33m)\u001b[0m \u001b[1;33m==\u001b[0m \u001b[1;36m0\u001b[0m\u001b[1;33m:\u001b[0m\u001b[1;33m\u001b[0m\u001b[1;33m\u001b[0m\u001b[0m\n\u001b[1;32m--> 398\u001b[1;33m                 raise ValueError(\n\u001b[0m\u001b[0;32m    399\u001b[0m                     \u001b[1;34m\"Dataset(s) incompatible with Pandas data types, \"\u001b[0m\u001b[1;33m\u001b[0m\u001b[1;33m\u001b[0m\u001b[0m\n\u001b[0;32m    400\u001b[0m                     \u001b[1;34m\"not table, or no datasets found in HDF5 file.\"\u001b[0m\u001b[1;33m\u001b[0m\u001b[1;33m\u001b[0m\u001b[0m\n",
      "\u001b[1;31mValueError\u001b[0m: Dataset(s) incompatible with Pandas data types, not table, or no datasets found in HDF5 file."
     ]
    }
   ],
   "source": [
    "import pandas as pd\n",
    "res = pd.read_hdf(\"res.h5\")\n",
    "res"
   ]
  }
 ],
 "metadata": {
  "kernelspec": {
   "display_name": "Python 3",
   "language": "python",
   "name": "python3"
  },
  "language_info": {
   "codemirror_mode": {
    "name": "ipython",
    "version": 3
   },
   "file_extension": ".py",
   "mimetype": "text/x-python",
   "name": "python",
   "nbconvert_exporter": "python",
   "pygments_lexer": "ipython3",
   "version": "3.8.5"
  }
 },
 "nbformat": 4,
 "nbformat_minor": 4
}
