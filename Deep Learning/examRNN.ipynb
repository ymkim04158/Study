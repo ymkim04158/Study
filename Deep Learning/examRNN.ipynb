{
 "cells": [
  {
   "cell_type": "code",
   "execution_count": 2,
   "metadata": {},
   "outputs": [],
   "source": [
    "import tensorflow as tf\n",
    "from tensorflow import keras\n",
    "import numpy as np"
   ]
  },
  {
   "cell_type": "code",
   "execution_count": 27,
   "metadata": {},
   "outputs": [
    {
     "name": "stdout",
     "output_type": "stream",
     "text": [
      "2.4.1\n"
     ]
    }
   ],
   "source": [
    "#01). 텐서버전 확인\n",
    "print(tf.__version__)"
   ]
  },
  {
   "cell_type": "code",
   "execution_count": 28,
   "metadata": {},
   "outputs": [
    {
     "name": "stderr",
     "output_type": "stream",
     "text": [
      "<__array_function__ internals>:5: VisibleDeprecationWarning: Creating an ndarray from ragged nested sequences (which is a list-or-tuple of lists-or-tuples-or ndarrays with different lengths or shapes) is deprecated. If you meant to do this, you must specify 'dtype=object' when creating the ndarray\n",
      "C:\\ProgramData\\Anaconda3\\lib\\site-packages\\tensorflow\\python\\keras\\datasets\\imdb.py:159: VisibleDeprecationWarning: Creating an ndarray from ragged nested sequences (which is a list-or-tuple of lists-or-tuples-or ndarrays with different lengths or shapes) is deprecated. If you meant to do this, you must specify 'dtype=object' when creating the ndarray\n",
      "  x_train, y_train = np.array(xs[:idx]), np.array(labels[:idx])\n",
      "C:\\ProgramData\\Anaconda3\\lib\\site-packages\\tensorflow\\python\\keras\\datasets\\imdb.py:160: VisibleDeprecationWarning: Creating an ndarray from ragged nested sequences (which is a list-or-tuple of lists-or-tuples-or ndarrays with different lengths or shapes) is deprecated. If you meant to do this, you must specify 'dtype=object' when creating the ndarray\n",
      "  x_test, y_test = np.array(xs[idx:]), np.array(labels[idx:])\n"
     ]
    }
   ],
   "source": [
    "#02). imbd의 데이터를 10000개만 로드 하자.\n",
    "imdb = keras.datasets.imdb\n",
    "(train_data, train_labels),(test_data, test_labels) = imdb.load_data(num_words = 10000)"
   ]
  },
  {
   "cell_type": "code",
   "execution_count": 29,
   "metadata": {},
   "outputs": [
    {
     "name": "stdout",
     "output_type": "stream",
     "text": [
      "훈련샘플 :25000 훈련 레이블 :25000\n",
      "[1, 14, 22, 16, 43, 530, 973, 1622, 1385, 65, 458, 4468, 66, 3941, 4, 173, 36, 256, 5, 25, 100, 43, 838, 112, 50, 670, 2, 9, 35, 480, 284, 5, 150, 4, 172, 112, 167, 2, 336, 385, 39, 4, 172, 4536, 1111, 17, 546, 38, 13, 447, 4, 192, 50, 16, 6, 147, 2025, 19, 14, 22, 4, 1920, 4613, 469, 4, 22, 71, 87, 12, 16, 43, 530, 38, 76, 15, 13, 1247, 4, 22, 17, 515, 17, 12, 16, 626, 18, 2, 5, 62, 386, 12, 8, 316, 8, 106, 5, 4, 2223, 5244, 16, 480, 66, 3785, 33, 4, 130, 12, 16, 38, 619, 5, 25, 124, 51, 36, 135, 48, 25, 1415, 33, 6, 22, 12, 215, 28, 77, 52, 5, 14, 407, 16, 82, 2, 8, 4, 107, 117, 5952, 15, 256, 4, 2, 7, 3766, 5, 723, 36, 71, 43, 530, 476, 26, 400, 317, 46, 7, 4, 2, 1029, 13, 104, 88, 4, 381, 15, 297, 98, 32, 2071, 56, 26, 141, 6, 194, 7486, 18, 4, 226, 22, 21, 134, 476, 26, 480, 5, 144, 30, 5535, 18, 51, 36, 28, 224, 92, 25, 104, 4, 226, 65, 16, 38, 1334, 88, 12, 16, 283, 5, 16, 4472, 113, 103, 32, 15, 16, 5345, 19, 178, 32]\n",
      "218\n",
      "189\n"
     ]
    }
   ],
   "source": [
    "#03). 훈련데이터와 훈련 데이터 레이블을 출력 해보자.\n",
    "print(\"훈련샘플 :{} 훈련 레이블 :{}\".format(len(train_data), len(train_labels)))\n",
    "print(train_data[0])\n",
    "print(len(train_data[0]))\n",
    "print(len(train_data[1]))"
   ]
  },
  {
   "cell_type": "code",
   "execution_count": 30,
   "metadata": {},
   "outputs": [],
   "source": [
    "###### 05). 내용을 확인\n",
    "word_index = imdb.get_word_index()\n",
    "word_index = {k : (v+3) for k,v in word_index.items()}\n",
    "\n",
    "word_index[\"<PAD>\"] = 0\n",
    "word_index[\"<START>\"] = 1\n",
    "word_index[\"<UNK>\"] = 2\n",
    "word_index[\"<UNUSED>\"] = 3\n",
    "\n",
    "reverse_word_index = dict([(value,key) for (key,value) in word_index.items()])\n",
    "\n",
    "def decode_review(text):\n",
    "    return ' '.join([reverse_word_index.get(i,'?') for i in text])\n",
    "\n"
   ]
  },
  {
   "cell_type": "code",
   "execution_count": 31,
   "metadata": {},
   "outputs": [
    {
     "name": "stdout",
     "output_type": "stream",
     "text": [
      "256\n",
      "256\n",
      "[   1   14   22   16   43  530  973 1622 1385   65  458 4468   66 3941\n",
      "    4  173   36  256    5   25  100   43  838  112   50  670    2    9\n",
      "   35  480  284    5  150    4  172  112  167    2  336  385   39    4\n",
      "  172 4536 1111   17  546   38   13  447    4  192   50   16    6  147\n",
      " 2025   19   14   22    4 1920 4613  469    4   22   71   87   12   16\n",
      "   43  530   38   76   15   13 1247    4   22   17  515   17   12   16\n",
      "  626   18    2    5   62  386   12    8  316    8  106    5    4 2223\n",
      " 5244   16  480   66 3785   33    4  130   12   16   38  619    5   25\n",
      "  124   51   36  135   48   25 1415   33    6   22   12  215   28   77\n",
      "   52    5   14  407   16   82    2    8    4  107  117 5952   15  256\n",
      "    4    2    7 3766    5  723   36   71   43  530  476   26  400  317\n",
      "   46    7    4    2 1029   13  104   88    4  381   15  297   98   32\n",
      " 2071   56   26  141    6  194 7486   18    4  226   22   21  134  476\n",
      "   26  480    5  144   30 5535   18   51   36   28  224   92   25  104\n",
      "    4  226   65   16   38 1334   88   12   16  283    5   16 4472  113\n",
      "  103   32   15   16 5345   19  178   32    0    0    0    0    0    0\n",
      "    0    0    0    0    0    0    0    0    0    0    0    0    0    0\n",
      "    0    0    0    0    0    0    0    0    0    0    0    0    0    0\n",
      "    0    0    0    0]\n",
      "<START> this film was just brilliant casting location scenery story direction everyone's really suited the part they played and you could just imagine being there robert <UNK> is an amazing actor and now the same being director <UNK> father came from the same scottish island as myself so i loved the fact there was a real connection with this film the witty remarks throughout the film were great it was just brilliant so much that i bought the film as soon as it was released for <UNK> and would recommend it to everyone to watch and the fly fishing was amazing really cried at the end it was so sad and you know what they say if you cry at a film it must have been good and this definitely was also <UNK> to the two little boy's that played the <UNK> of norman and paul they were just brilliant children are often left out of the <UNK> list i think because the stars that play them all grown up are such a big profile for the whole film but these children are amazing and should be praised for what they have done don't you think the whole story was so lovely because it was true and was someone's life after all that was shared with us all <PAD> <PAD> <PAD> <PAD> <PAD> <PAD> <PAD> <PAD> <PAD> <PAD> <PAD> <PAD> <PAD> <PAD> <PAD> <PAD> <PAD> <PAD> <PAD> <PAD> <PAD> <PAD> <PAD> <PAD> <PAD> <PAD> <PAD> <PAD> <PAD> <PAD> <PAD> <PAD> <PAD> <PAD> <PAD> <PAD> <PAD> <PAD>\n",
      "<START> big hair big boobs bad music and a giant safety pin these are the words to best describe this terrible movie i love cheesy horror movies and i've seen hundreds but this had got to be on of the worst ever made the plot is paper thin and ridiculous the acting is an abomination the script is completely laughable the best is the end showdown with the cop and how he worked out who the killer is it's just so damn terribly written the clothes are sickening and funny in equal <UNK> the hair is big lots of boobs <UNK> men wear those cut <UNK> shirts that show off their <UNK> sickening that men actually wore them and the music is just <UNK> trash that plays over and over again in almost every scene there is trashy music boobs and <UNK> taking away bodies and the gym still doesn't close for <UNK> all joking aside this is a truly bad film whose only charm is to look back on the disaster that was the 80's and have a good old laugh at how bad everything was back then <PAD> <PAD> <PAD> <PAD> <PAD> <PAD> <PAD> <PAD> <PAD> <PAD> <PAD> <PAD> <PAD> <PAD> <PAD> <PAD> <PAD> <PAD> <PAD> <PAD> <PAD> <PAD> <PAD> <PAD> <PAD> <PAD> <PAD> <PAD> <PAD> <PAD> <PAD> <PAD> <PAD> <PAD> <PAD> <PAD> <PAD> <PAD> <PAD> <PAD> <PAD> <PAD> <PAD> <PAD> <PAD> <PAD> <PAD> <PAD> <PAD> <PAD> <PAD> <PAD> <PAD> <PAD> <PAD> <PAD> <PAD> <PAD> <PAD> <PAD> <PAD> <PAD> <PAD> <PAD> <PAD> <PAD> <PAD>\n"
     ]
    }
   ],
   "source": [
    "#07) len(train_data[0]), len(train_data[1]) -> 218, 189의 내용의 길이가 다르다.\n",
    "# 길이를 256으로 맞추고 나머지를 0으로 채워라.\n",
    "train_data = keras.preprocessing.sequence.pad_sequences(train_data, maxlen=256, padding='post', \n",
    "                                                        value=word_index[\"<PAD>\"])\n",
    "test_data = keras.preprocessing.sequence.pad_sequences(train_data, maxlen=256, padding='post', \n",
    "                                                        value=word_index[\"<PAD>\"])\n",
    "print(len(train_data[0]))\n",
    "print(len(train_data[1]))\n",
    "print(train_data[0])\n",
    "print(decode_review(train_data[0]))\n",
    "print(decode_review(train_data[1]))"
   ]
  },
  {
   "cell_type": "code",
   "execution_count": 32,
   "metadata": {},
   "outputs": [
    {
     "name": "stdout",
     "output_type": "stream",
     "text": [
      "Model: \"sequential_3\"\n",
      "_________________________________________________________________\n",
      "Layer (type)                 Output Shape              Param #   \n",
      "=================================================================\n",
      "embedding_3 (Embedding)      (None, None, 16)          160000    \n",
      "_________________________________________________________________\n",
      "global_average_pooling1d_3 ( (None, 16)                0         \n",
      "_________________________________________________________________\n",
      "dense_6 (Dense)              (None, 16)                272       \n",
      "_________________________________________________________________\n",
      "dense_7 (Dense)              (None, 1)                 17        \n",
      "=================================================================\n",
      "Total params: 160,289\n",
      "Trainable params: 160,289\n",
      "Non-trainable params: 0\n",
      "_________________________________________________________________\n"
     ]
    }
   ],
   "source": [
    "#08 모델을 생성하자.\n",
    "vocab_size = 10000\n",
    "model = keras.Sequential()\n",
    "model.add(keras.layers.Embedding(vocab_size, 16, input_shape = (None,)))\n",
    "model.add(keras.layers.GlobalAveragePooling1D())\n",
    "model.add(keras.layers.Dense(16, activation = 'relu'))\n",
    "model.add(keras.layers.Dense(1, activation = 'sigmoid'))\n",
    "model.summary()\n",
    "\n",
    "model.compile(optimizer = 'adam', loss = 'binary_crossentropy', metrics = ['accuracy'])"
   ]
  },
  {
   "cell_type": "code",
   "execution_count": 36,
   "metadata": {},
   "outputs": [
    {
     "name": "stdout",
     "output_type": "stream",
     "text": [
      "Epoch 1/40\n",
      "30/30 [==============================] - 1s 19ms/step - loss: 0.0878 - accuracy: 0.9781 - val_loss: 0.3160 - val_accuracy: 0.8814\n",
      "Epoch 2/40\n",
      "30/30 [==============================] - 1s 20ms/step - loss: 0.0844 - accuracy: 0.9796 - val_loss: 0.3192 - val_accuracy: 0.8822\n",
      "Epoch 3/40\n",
      "30/30 [==============================] - 1s 17ms/step - loss: 0.0807 - accuracy: 0.9811 - val_loss: 0.3231 - val_accuracy: 0.8804\n",
      "Epoch 4/40\n",
      "30/30 [==============================] - 1s 18ms/step - loss: 0.0776 - accuracy: 0.9817 - val_loss: 0.3271 - val_accuracy: 0.8797\n",
      "Epoch 5/40\n",
      "30/30 [==============================] - 1s 17ms/step - loss: 0.0747 - accuracy: 0.9832 - val_loss: 0.3309 - val_accuracy: 0.8805\n",
      "Epoch 6/40\n",
      "30/30 [==============================] - 1s 18ms/step - loss: 0.0718 - accuracy: 0.9841 - val_loss: 0.3360 - val_accuracy: 0.8786\n",
      "Epoch 7/40\n",
      "30/30 [==============================] - 1s 18ms/step - loss: 0.0693 - accuracy: 0.9849 - val_loss: 0.3393 - val_accuracy: 0.8784\n",
      "Epoch 8/40\n",
      "30/30 [==============================] - 1s 17ms/step - loss: 0.0665 - accuracy: 0.9861 - val_loss: 0.3435 - val_accuracy: 0.8784\n",
      "Epoch 9/40\n",
      "30/30 [==============================] - 1s 17ms/step - loss: 0.0641 - accuracy: 0.9865 - val_loss: 0.3476 - val_accuracy: 0.8785\n",
      "Epoch 10/40\n",
      "30/30 [==============================] - 1s 18ms/step - loss: 0.0615 - accuracy: 0.9879 - val_loss: 0.3534 - val_accuracy: 0.8770\n",
      "Epoch 11/40\n",
      "30/30 [==============================] - 1s 17ms/step - loss: 0.0593 - accuracy: 0.9883 - val_loss: 0.3571 - val_accuracy: 0.8772\n",
      "Epoch 12/40\n",
      "30/30 [==============================] - 1s 18ms/step - loss: 0.0568 - accuracy: 0.9893 - val_loss: 0.3633 - val_accuracy: 0.8755\n",
      "Epoch 13/40\n",
      "30/30 [==============================] - 1s 18ms/step - loss: 0.0549 - accuracy: 0.9894 - val_loss: 0.3684 - val_accuracy: 0.8751\n",
      "Epoch 14/40\n",
      "30/30 [==============================] - 1s 19ms/step - loss: 0.0526 - accuracy: 0.9903 - val_loss: 0.3710 - val_accuracy: 0.8770\n",
      "Epoch 15/40\n",
      "30/30 [==============================] - 1s 18ms/step - loss: 0.0505 - accuracy: 0.9912 - val_loss: 0.3763 - val_accuracy: 0.8757\n",
      "Epoch 16/40\n",
      "30/30 [==============================] - 1s 17ms/step - loss: 0.0488 - accuracy: 0.9914 - val_loss: 0.3833 - val_accuracy: 0.8740\n",
      "Epoch 17/40\n",
      "30/30 [==============================] - 1s 19ms/step - loss: 0.0470 - accuracy: 0.9919 - val_loss: 0.3865 - val_accuracy: 0.8735\n",
      "Epoch 18/40\n",
      "30/30 [==============================] - 1s 19ms/step - loss: 0.0446 - accuracy: 0.9927 - val_loss: 0.3913 - val_accuracy: 0.8738\n",
      "Epoch 19/40\n",
      "30/30 [==============================] - 0s 17ms/step - loss: 0.0430 - accuracy: 0.9931 - val_loss: 0.3964 - val_accuracy: 0.8749\n",
      "Epoch 20/40\n",
      "30/30 [==============================] - 1s 17ms/step - loss: 0.0415 - accuracy: 0.9933 - val_loss: 0.4026 - val_accuracy: 0.8727\n",
      "Epoch 21/40\n",
      "30/30 [==============================] - 1s 18ms/step - loss: 0.0396 - accuracy: 0.9940 - val_loss: 0.4071 - val_accuracy: 0.8737\n",
      "Epoch 22/40\n",
      "30/30 [==============================] - 1s 17ms/step - loss: 0.0380 - accuracy: 0.9942 - val_loss: 0.4133 - val_accuracy: 0.8726\n",
      "Epoch 23/40\n",
      "30/30 [==============================] - 1s 18ms/step - loss: 0.0365 - accuracy: 0.9945 - val_loss: 0.4178 - val_accuracy: 0.8731\n",
      "Epoch 24/40\n",
      "30/30 [==============================] - 0s 17ms/step - loss: 0.0350 - accuracy: 0.9947 - val_loss: 0.4230 - val_accuracy: 0.8728\n",
      "Epoch 25/40\n",
      "30/30 [==============================] - 0s 16ms/step - loss: 0.0334 - accuracy: 0.9955 - val_loss: 0.4293 - val_accuracy: 0.8711\n",
      "Epoch 26/40\n",
      "30/30 [==============================] - 1s 17ms/step - loss: 0.0322 - accuracy: 0.9959 - val_loss: 0.4351 - val_accuracy: 0.8704\n",
      "Epoch 27/40\n",
      "30/30 [==============================] - 1s 20ms/step - loss: 0.0311 - accuracy: 0.9959 - val_loss: 0.4394 - val_accuracy: 0.8715\n",
      "Epoch 28/40\n",
      "30/30 [==============================] - 1s 18ms/step - loss: 0.0296 - accuracy: 0.9965 - val_loss: 0.4498 - val_accuracy: 0.8684\n",
      "Epoch 29/40\n",
      "30/30 [==============================] - 1s 18ms/step - loss: 0.0289 - accuracy: 0.9963 - val_loss: 0.4507 - val_accuracy: 0.8700\n",
      "Epoch 30/40\n",
      "30/30 [==============================] - 1s 18ms/step - loss: 0.0274 - accuracy: 0.9967 - val_loss: 0.4557 - val_accuracy: 0.8704\n",
      "Epoch 31/40\n",
      "30/30 [==============================] - 1s 20ms/step - loss: 0.0264 - accuracy: 0.9968 - val_loss: 0.4617 - val_accuracy: 0.8688\n",
      "Epoch 32/40\n",
      "30/30 [==============================] - 1s 18ms/step - loss: 0.0251 - accuracy: 0.9972 - val_loss: 0.4684 - val_accuracy: 0.8681\n",
      "Epoch 33/40\n",
      "30/30 [==============================] - 1s 19ms/step - loss: 0.0242 - accuracy: 0.9974 - val_loss: 0.4731 - val_accuracy: 0.8674\n",
      "Epoch 34/40\n",
      "30/30 [==============================] - 1s 17ms/step - loss: 0.0231 - accuracy: 0.9979 - val_loss: 0.4788 - val_accuracy: 0.8672\n",
      "Epoch 35/40\n",
      "30/30 [==============================] - 1s 19ms/step - loss: 0.0226 - accuracy: 0.9978 - val_loss: 0.4839 - val_accuracy: 0.8691\n",
      "Epoch 36/40\n",
      "30/30 [==============================] - 1s 18ms/step - loss: 0.0215 - accuracy: 0.9982 - val_loss: 0.4900 - val_accuracy: 0.8671\n",
      "Epoch 37/40\n",
      "30/30 [==============================] - 1s 19ms/step - loss: 0.0205 - accuracy: 0.9984 - val_loss: 0.4956 - val_accuracy: 0.8662\n",
      "Epoch 38/40\n",
      "30/30 [==============================] - 1s 18ms/step - loss: 0.0196 - accuracy: 0.9984 - val_loss: 0.5023 - val_accuracy: 0.8669\n",
      "Epoch 39/40\n",
      "30/30 [==============================] - 1s 19ms/step - loss: 0.0191 - accuracy: 0.9985 - val_loss: 0.5057 - val_accuracy: 0.8661\n",
      "Epoch 40/40\n",
      "30/30 [==============================] - 1s 17ms/step - loss: 0.0180 - accuracy: 0.9985 - val_loss: 0.5120 - val_accuracy: 0.8661\n",
      "782/782 - 1s - loss: 3.7625 - accuracy: 0.4964\n",
      "[3.762523651123047, 0.49643999338150024]\n"
     ]
    }
   ],
   "source": [
    "#09) 훈련 시키자\n",
    "x_val = train_data[:10000]\n",
    "partial_x_train = train_data[10000:]\n",
    "\n",
    "y_val = train_labels[:10000]\n",
    "partial_y_train = train_labels[10000:]\n",
    "\n",
    "history = model.fit(\n",
    "        partial_x_train,\n",
    "        partial_y_train,\n",
    "        epochs = 40,\n",
    "        batch_size = 512,\n",
    "        validation_data = (x_val, y_val),\n",
    "        verbose = 1\n",
    ")\n",
    "\n",
    "results = model.evaluate(test_data, test_labels, verbose=2)\n",
    "print(results)"
   ]
  },
  {
   "cell_type": "code",
   "execution_count": 37,
   "metadata": {},
   "outputs": [
    {
     "data": {
      "text/plain": [
       "<matplotlib.legend.Legend at 0x20be400b700>"
      ]
     },
     "execution_count": 37,
     "metadata": {},
     "output_type": "execute_result"
    },
    {
     "data": {
      "image/png": "[encoded data removed]",
      "text/plain": [
       "<Figure size 432x288 with 1 Axes>"
      ]
     },
     "metadata": {
      "needs_background": "light"
     },
     "output_type": "display_data"
    }
   ],
   "source": [
    "#10) 시각화\n",
    "import matplotlib.pyplot as plt\n",
    "\n",
    "history_dict = history.history\n",
    "history_dict.keys()\n",
    "\n",
    "acc = history_dict['accuracy']\n",
    "val_acc = history_dict['val_accuracy']\n",
    "loss = history_dict['loss']\n",
    "val_loss = history_dict['val_loss']\n",
    "\n",
    "epochs = range(1, len(acc) + 1)\n",
    "\n",
    "#파란색 점 bo\n",
    "plt.plot(epochs,loss,'bo',label = 'Training loss')\n",
    "\n",
    "#파란색 실선 b\n",
    "plt.plot(epochs,val_loss,'b',label = 'validation loss')\n",
    "plt.title(\" Training  &  validation \")\n",
    "plt.xlabel('Epoch')\n",
    "plt.ylabel('Loss')\n",
    "plt.legend()"
   ]
  },
  {
   "cell_type": "code",
   "execution_count": 38,
   "metadata": {},
   "outputs": [
    {
     "data": {
      "text/plain": [
       "<matplotlib.legend.Legend at 0x20bdff3a820>"
      ]
     },
     "execution_count": 38,
     "metadata": {},
     "output_type": "execute_result"
    },
    {
     "data": {
      "image/png": "[encoded data removed]",
      "text/plain": [
       "<Figure size 432x288 with 1 Axes>"
      ]
     },
     "metadata": {
      "needs_background": "light"
     },
     "output_type": "display_data"
    }
   ],
   "source": [
    "#파란색 점 bo\n",
    "plt.plot(epochs,acc,'bo',label = 'Training acc')\n",
    "\n",
    "#파란색 실선 b\n",
    "plt.plot(epochs,val_acc,'b',label = 'validation acc')\n",
    "plt.title(\" Training  &  validation \")\n",
    "plt.xlabel('Epoch')\n",
    "plt.ylabel('Loss')\n",
    "plt.legend()"
   ]
  },
  {
   "cell_type": "code",
   "execution_count": null,
   "metadata": {},
   "outputs": [],
   "source": []
  }
 ],
 "metadata": {
  "kernelspec": {
   "display_name": "Python 3",
   "language": "python",
   "name": "python3"
  },
  "language_info": {
   "codemirror_mode": {
    "name": "ipython",
    "version": 3
   },
   "file_extension": ".py",
   "mimetype": "text/x-python",
   "name": "python",
   "nbconvert_exporter": "python",
   "pygments_lexer": "ipython3",
   "version": "3.8.5"
  }
 },
 "nbformat": 4,
 "nbformat_minor": 4
}
