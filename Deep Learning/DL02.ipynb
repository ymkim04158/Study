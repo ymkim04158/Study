{
 "cells": [
  {
   "cell_type": "code",
   "execution_count": 1,
   "metadata": {},
   "outputs": [
    {
     "data": {
      "text/plain": [
       "<tensorflow.python.keras.engine.sequential.Sequential at 0x1f85ea217c0>"
      ]
     },
     "execution_count": 1,
     "metadata": {},
     "output_type": "execute_result"
    }
   ],
   "source": [
    "#21) relu(렐루) 함수를 살펴보자\n",
    "# 모델, 층, 핵심모듈\n",
    "# layers (입력 레이어, 히든 레이어, 출력 레이어) : 코어, 컨볼루션, 폴링, 반복\n",
    "from keras.models import Sequential\n",
    "from keras.layers import Dense, Activation, Dropout\n",
    "\n",
    "model = Sequential()\n",
    "model.add(Dense(512, activation = 'relu', input_shape = (784,)))\n",
    "model"
   ]
  },
  {
   "cell_type": "markdown",
   "metadata": {},
   "source": [
    "핵심모듈 : 모델과 레이어를 생성하기 위한 기능\n",
    "- 활성화 모듈 : softmax, relu 등...\n",
    "- Loss 모듈 : error 모듈 손실 기능\n",
    "- Optimizer 모듈 : 최적화 기능을 수행하는 sgd 등..\n",
    "- 정규화 : L1 정규화, L2 정규화"
   ]
  },
  {
   "cell_type": "code",
   "execution_count": null,
   "metadata": {},
   "outputs": [],
   "source": [
    "relu 함수\n",
    "2D 텐서를 입력 받고 입력텐서의 기능을 변환하는 3개의 텐서 연산을 한다.\n",
    "입력 텐서 w 사이에 접곱(dot), 접곱의 결과인 2D 텐서와 벡터 b 사이의 덧셈을 구한다.\n",
    "relu(x) 는 max(x, 0)\n",
    "output = relu(dot(w, input) + b)\n",
    "w : 2d tesner. b : vector"
   ]
  },
  {
   "cell_type": "code",
   "execution_count": 2,
   "metadata": {},
   "outputs": [
    {
     "data": {
      "text/plain": [
       "array([1., 2., 3., 4., 4., 5., 6., 7.])"
      ]
     },
     "execution_count": 2,
     "metadata": {},
     "output_type": "execute_result"
    }
   ],
   "source": [
    "import numpy as np\n",
    "\n",
    "def naive_relu(x):\n",
    "    assert len(x.shape) == 2\n",
    "    x.copy()\n",
    "    for i in range(x.shape[0]):\n",
    "        for j in range(x.shape[1]):\n",
    "            x[i,j] = max(x[i,j], 0)\n",
    "    return x\n",
    "\n",
    "res = naive_relu(np.array([[1,2,3,4], [5,6,7,8]]))\n",
    "res\n",
    "\n",
    "x = [1, 2, 3, 4]\n",
    "y = [4, 5, 6, 7]\n",
    "z = x + y # 원소별 덧셈\n",
    "\n",
    "z = np.maximum(z, 0.) # 원소별 렐루 함수\n",
    "z"
   ]
  },
  {
   "cell_type": "markdown",
   "metadata": {},
   "source": [
    "tf.keras.layers.Dense(\n",
    "    units, activation = None, use_bias = True,\n",
    "    kernel_initializer = 'glorot_uniform',\n",
    "    bias_initializer = 'zeros', kernel_regularizer = None,\n",
    "    bias_regularizer - None, activity_regularizer = None, kernel_constraint = None,\n",
    "    bias_constraint = None, **kwargs\n",
    ")"
   ]
  },
  {
   "cell_type": "code",
   "execution_count": 4,
   "metadata": {},
   "outputs": [
    {
     "data": {
      "text/plain": [
       "<tensorflow.python.keras.engine.sequential.Sequential at 0x17ac25b2c40>"
      ]
     },
     "execution_count": 4,
     "metadata": {},
     "output_type": "execute_result"
    }
   ],
   "source": [
    "#exam01) 모든 입력 데이터에 0으로 설정해서 계층을 생성하자.\n",
    "\n",
    "from keras.models import Sequential\n",
    "from keras.layers import Dense, Activation, Dropout\n",
    "from keras import *\n",
    "\n",
    "my_init = initializers.Zeros()\n",
    "model = Sequential()\n",
    "model.add(Dense(512, activation = 'relu', input_shape = (784,), kernel_initializer = my_init))\n",
    "model"
   ]
  },
  {
   "cell_type": "code",
   "execution_count": null,
   "metadata": {},
   "outputs": [],
   "source": [
    "#exam02"
   ]
  },
  {
   "cell_type": "code",
   "execution_count": 5,
   "metadata": {},
   "outputs": [
    {
     "data": {
      "text/plain": [
       "<tensorflow.python.keras.engine.sequential.Sequential at 0x17ab9417370>"
      ]
     },
     "execution_count": 5,
     "metadata": {},
     "output_type": "execute_result"
    }
   ],
   "source": [
    "#exam 03) 입력 데이터의 정규분포를 사용하여 값을 생성하자.\n",
    "my_init = initializers.RandomNormal(mean = 0.0, stddev = 0.05, seed = None)\n",
    "model = Sequential()\n",
    "model.add(Dense(512, activation = 'relu', input_shape = (784,), kernel_initializer = my_init))\n",
    "model"
   ]
  },
  {
   "cell_type": "code",
   "execution_count": null,
   "metadata": {},
   "outputs": [],
   "source": [
    "#exam04) 지정한 배율과 레이어의 입력모양, 출력 모양을 기반으로 값을 생성\n",
    "#fan_in = 입력 장치,  fan_out = 출력 모양 fan_avg, he_normal : 정규 분포\n",
    "my_init = initializers.VarianceScaling(\n",
    "    scale = 1.0, mode = 'fan_in', distribution = 'truncated_normal',\n",
    "    seed = None\n",
    ")\n",
    "model = Sequential()\n",
    "model.add(Dense(512, activation = 'relu', input_shape = (784,), kernel_initializer = my_init))\n",
    "model"
   ]
  },
  {
   "cell_type": "code",
   "execution_count": 8,
   "metadata": {},
   "outputs": [
    {
     "data": {
      "text/plain": [
       "<tensorflow.python.keras.engine.sequential.Sequential at 0x17ac8b0c0a0>"
      ]
     },
     "execution_count": 8,
     "metadata": {},
     "output_type": "execute_result"
    }
   ],
   "source": [
    "#exam05) kernel_constrain\n",
    "#최적화 단계에서 매개변수(가중치)에 대한 제약 조건이 설정된다. 레이어에 대한 제약조건 사용할 때....\n",
    "#가중치가 음수가 아닌것을 제안하자.  /표준으로 / 주어진 값이 작거나 같은값으로 제안하자.\n",
    "from keras import constraints\n",
    "\n",
    "my_const = constraints.UnitNorm(axis = 0)\n",
    "model = Sequential()\n",
    "model.add(Dense(512, activation = 'relu', input_shape = (784,), kernel_constraint = my_const))\n",
    "model"
   ]
  }
 ],
 "metadata": {
  "kernelspec": {
   "display_name": "Python 3",
   "language": "python",
   "name": "python3"
  },
  "language_info": {
   "codemirror_mode": {
    "name": "ipython",
    "version": 3
   },
   "file_extension": ".py",
   "mimetype": "text/x-python",
   "name": "python",
   "nbconvert_exporter": "python",
   "pygments_lexer": "ipython3",
   "version": "3.8.5"
  }
 },
 "nbformat": 4,
 "nbformat_minor": 4
}
