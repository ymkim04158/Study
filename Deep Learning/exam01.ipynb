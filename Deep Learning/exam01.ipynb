{
 "cells": [
  {
   "cell_type": "markdown",
   "metadata": {},
   "source": [
    "1. 퍼셉트론 : 신경세포를 뉴런이 발견한 것\n",
    "입력신호 : x\n",
    "출력값 : y\n",
    "가중치 : w\n",
    "임계값 : threshold\n",
    "\n",
    "- 각 입력값은 각각의 가중치가 존재하는데 가중치값이 클수록 입력값에 영향을 준다.\n",
    "- 각 입력값과 가중치의 곱의 전체 합이 임계치를 넘으면 출력신호로 1을 내보낸다.\n",
    "  그렇지 않은 경우 0을 내보낸다.\n",
    "  y = x1 * w1 + x2 * w2 + xn * wn\n",
    "- 편향 b라고 하고 입력값과 같이 연동된다. : 최적의 값을 찾는 편수\n",
    "\n",
    "2. 활성화 함수(비선형 함수) : 데이터 폭을 조절, 데이터폭을 정의 하도록 설정하는 것을 목적\n",
    "  - 계단함수는 0,1로만 리턴되기 때문에 예측, 손실율 낮다 분류목적\n",
    "  - 시그모이드 함수 = 이진분류 로지스틱회귀\n",
    "  - 소프트 맥스 함수 = 3개 이상중에 하나를 골라서 출력 = 다중클래스 분류\n",
    "    선형 f(x) = Wx + b 과 비선형\n",
    "  \n",
    "3. 단층 퍼셉트론 = 분류 = 선형 AND, OR, NOT = 직선\n",
    "4. 다중 퍼셉트론 = 비선형 영역 분류  XOR = 곡선\n",
    "     = Deep Neural Network = DNN = 심층 신경망 = 은닉층 2개 이상인 신경망\n",
    "     \n",
    "5. 퍼셉트론은 히든레이어를 만들어서 가중치를 찾아서 결과를 내는 결과론\n",
    "   가중치 -> 자동화 -> 머신러닝(학습 : training) + (손실 + 옵티마이저) = 딥러닝\n",
    "   \n",
    "6. 심층 신경망을 학습시킨다 = Deep learning\n",
    "\n",
    "7. 인공 신경망 입력 방향에 따른 분류\n",
    "   Feed-Forward NN : 순방향 신경망 => 입력 데이터와 출력 데이터가 한방향으로 이루어 지는 것\n",
    "   Recurrent NN(RNN) : 은닉층의 출력값을 출력으로 값을 보내는 동시에 출력값이 다시 은닉층의 입력값으로 회전하면서 연산되는 것\n",
    "   \n",
    "   Fully - connected layer : FC = Dense() = 밀집층\n",
    "   \n",
    "8. 순전파(Foward Propagation) : 입력값 -> 은닉층 -> 출력값(예측값 = 손실함수)\n",
    "   손실함수의 값을 최소화하는 가중치와 편향을 찾아가는 것이 딥러닝의 학습과정이다.\n",
    "   손실함수 종류\n",
    "     - MSE(Mean Squared Error) = 오차 제곱 평균 = 연속형변수값을 예측할 때 사용\n",
    "     - Cross - Entropy = binary_crossentropy\n",
    "     - 다중분류 = categorical_crossentropy\n",
    "     \n",
    "9. 옵티마이저(optimizer) : 손실함수의 값을 줄여가면서 학습하는 방법\n",
    "   1) SGD(Stochastic Gradient Descent : 확률적 경사 하강법) : 랜덤으로 선택한 하나의 데이터만 계산하는 방법\n",
    "      tf.keras.optimizers.SGD(learning_rate = 0.03, momentum = 0.0, nesterov = False, name = 'SGD', **kwargs)\n",
    "      momentum(모멘텀) = 경사 하강법에서 기울기에 대한 접선을 비율만큼 지정\n",
    "   2) Adagrad : 동일한 데이터가 매개변수로 구현될때 사용된다.\n",
    "      RMSprop\n",
    "   3) Adam(Adagrad + RMSprop) : 동일한 매개변수, 값이 많거나 학습에 대한 변화가 없을 경우 사용된다.\n",
    "      \n",
    "10. batch_size = len(train_x) :가중치 등의 매개변수의 값을 조정하기 위해 사용하는 데이터 량\n",
    "     = 배치 경사 하강법(batch gradient dscent) : 오차를 구할 때 전체 데이터를 대상으로 한다.\n",
    "     \n",
    "11. batch_size = 32 (미니 배치 경사 하강법 mini-batch gradient descent)\n",
    "\n",
    "12. over-fitting : 학습데이터에 모델이 과 적합한 형상\n",
    "      과적합하면 무슨일이 벌어지나요? : 정확도는 너무 높다. 새로운데이터(검증 데이터)가 들어올 경우\n",
    "      테스트 데이터에 대해 동작을 제대로 하지 않는다.\n",
    "      해결방법 : 데이터를 늘린다 은닉층줄인다, 가중치 규제 적용 한다.\n",
    "                 신경망을 줄인다.(Dropout)  tf.keras.layers.Dropout\n",
    "                 \n",
    "13. 기울기 자르기 : clipnorm = 임계값을 넘을 경우 기울기를 자른다. 임계치만큼 크기 감소\n",
    "       = RNN에서 사용\n",
    "         tf.keras.optimizers.Adam(\n",
    "     learning_rate = 0.001, beta_1 = 0.9, beta_2 = 0.999, epsilon = 1e-07, amsgrad = False,\n",
    "     name = 'adam', **kwargs)\n",
    "     ex) optimizers.Adam(clipnorm=1.)\n",
    "     \n",
    "14. 유형에 따른 손실 함수와 | 출력층의 활성함수\n",
    "   1) 회귀문제 : mean_squared_error\n",
    "   2) 다중클래스 분류 : categorical_crossentropy | 소프트맥스 => 로이트 뉴스분류\n",
    "   3) 다중클래스 분류 : sparse_categorical_crossentropy(one-hot X) : 소프트맥스 => \n",
    "   4) 이진 분류 : binary_crossentropy : 시그모이드 => 스팸메일 분류, IMDB 리뷰"
   ]
  },
  {
   "cell_type": "code",
   "execution_count": null,
   "metadata": {},
   "outputs": [],
   "source": [
    "# 스텝 함수\n",
    "def step(val):\n",
    "    if(val >= 0):\n",
    "        return 1\n"
   ]
  },
  {
   "cell_type": "code",
   "execution_count": null,
   "metadata": {},
   "outputs": [],
   "source": [
    "입력값이 두개 들어왔을 경우 둘다 a,b,1,1,1 AND\n",
    "    x1, x2, y\n",
    "    0   0   0\n",
    "    0   1   0\n",
    "    1   0   0\n",
    "    1   1   1"
   ]
  },
  {
   "cell_type": "code",
   "execution_count": null,
   "metadata": {},
   "outputs": [],
   "source": [
    "def my_and(x1,x2):\n",
    "    w1 = 0.5\n",
    "    w2 = 0.5\n",
    "    b = -0.7\n",
    "    res = x1*w1+x2*w2+b\n",
    "    if(res >= 0):\n",
    "        return 0\n",
    "    return 1"
   ]
  },
  {
   "cell_type": "code",
   "execution_count": null,
   "metadata": {},
   "outputs": [],
   "source": [
    "def my_or(x1,x2):\n",
    "    w1 = 0.5\n",
    "    w2 = 0.5\n",
    "    b = -0.7\n",
    "    res = x1*w1+x2*w2+b\n",
    "    if(res <= 0):\n",
    "        return 0\n",
    "    return 1"
   ]
  },
  {
   "cell_type": "code",
   "execution_count": 2,
   "metadata": {},
   "outputs": [
    {
     "data": {
      "image/png": "[encoded data removed]",
      "text/plain": [
       "<Figure size 432x288 with 1 Axes>"
      ]
     },
     "metadata": {
      "needs_background": "light"
     },
     "output_type": "display_data"
    }
   ],
   "source": [
    "# step 함수\n",
    "import numpy as np\n",
    "import matplotlib.pyplot as plt\n",
    "\n",
    "def step(x):\n",
    "    return np.array(x > 0, dtype = np.int)\n",
    "\n",
    "x = np.arange(-5.0, 5.0, 0.1)\n",
    "y = step(x)\n",
    "plt.title(\"Step Fun\")\n",
    "plt.plot(x,y)\n",
    "plt.show()"
   ]
  },
  {
   "cell_type": "code",
   "execution_count": 3,
   "metadata": {},
   "outputs": [
    {
     "data": {
      "image/png": "[encoded data removed]",
      "text/plain": [
       "<Figure size 432x288 with 1 Axes>"
      ]
     },
     "metadata": {
      "needs_background": "light"
     },
     "output_type": "display_data"
    }
   ],
   "source": [
    "#02. 시그모이드 함수\n",
    "# 가중치 -> 자동화 -> 머신러닝(학습 : training) + (손실 + 옵티마이저) = 딥러닝\n",
    "# 입력 데이터 -> 연산 -> (출력 + 손실)\n",
    "# 손실함수 (loss function) = 예측값과 실제값의 오차\n",
    "# 손실함수는 미분을 통해서 기울기를 구하고 이를 통해서 역전파를 수행한다.\n",
    "def sigmoid(x):\n",
    "    return 1/(1+np.exp(-x))\n",
    "\n",
    "x = np.arange(-5.0, 5.0, 0.1)\n",
    "y = sigmoid(x)\n",
    "\n",
    "plt.plot(x,y)\n",
    "plt.title(\"sigmoid Fun\")\n",
    "plt.plot([0,0],[1.0,0.0],':')\n",
    "plt.show()\n",
    "#결과를 보면 기울기가 원만해지는 값들이 출력값 0,1에 가까워지는 것을 볼 수 있다.\n",
    "#기울기 소실(Vanishing Gradient)\n",
    "#은닉층의 개수가 많을 때 0에 가까운 기울기가 계속 곱해진다.\n",
    "#그렇게 되면 처리되는 연산의 처음부분으로 갈수록 기울기를 얻어낼 수가 없다."
   ]
  },
  {
   "cell_type": "code",
   "execution_count": 4,
   "metadata": {},
   "outputs": [
    {
     "data": {
      "image/png": "[encoded data removed]",
      "text/plain": [
       "<Figure size 432x288 with 1 Axes>"
      ]
     },
     "metadata": {
      "needs_background": "light"
     },
     "output_type": "display_data"
    }
   ],
   "source": [
    "#활성화 함수 : 렐루(relu) f(x) = max(0,x)\n",
    "def ReLU(x):\n",
    "    return np.maximum(0,x)\n",
    "\n",
    "x = np.arange(-5.0, 5.0, 0.1)\n",
    "y = ReLU(x)\n",
    "\n",
    "plt.plot(x,y)\n",
    "plt.title(\"ReLU Fun\")\n",
    "plt.plot([0,0],[1.0,0.0],':')\n",
    "plt.show()"
   ]
  },
  {
   "cell_type": "code",
   "execution_count": 5,
   "metadata": {},
   "outputs": [
    {
     "data": {
      "image/png": "[encoded data removed]",
      "text/plain": [
       "<Figure size 432x288 with 1 Axes>"
      ]
     },
     "metadata": {
      "needs_background": "light"
     },
     "output_type": "display_data"
    }
   ],
   "source": [
    "#활성화 함수 : softmax() ---> 출력 층, 다중 클래스 분류\n",
    "\n",
    "x = np.arange(-5.0, 5.0, 0.1)\n",
    "y = np.exp(x) / np.sum(np.exp(x))\n",
    "\n",
    "plt.plot(x,y)\n",
    "plt.title(\"softmax Fun\")\n",
    "plt.show()"
   ]
  },
  {
   "cell_type": "code",
   "execution_count": 6,
   "metadata": {},
   "outputs": [],
   "source": [
    "from tensorflow.keras.layers import Dense\n",
    "import tensorflow as tf\n",
    "model = tf.keras.Sequential()  # 순전파\n",
    "model.add(Dense(4, input_dim = 2, activation = 'relu'))  #입력층 4, 은닉층(8), 활성화 함수 relu\n",
    "model.add(Dense(4, activation = 'relu'))  # 은닉층(8) 활성화 함수 relu\n",
    "model.add(Dense(3, activation = 'softmax'))  # 출력층(1) 활성화 함수 softmax"
   ]
  },
  {
   "cell_type": "markdown",
   "metadata": {},
   "source": [
    "model.add(Dense(4,input_dim = 2, activation = 'relu'))\n",
    "    = 입력행렬의 크기 1*2 출력4  Y의 크기는 1*4\n",
    "    \n",
    " y = x1*w1 + x2*w2 + xn*wn + b\n",
    " X m*n * Wn*j + Bm*j = Ym*j\n",
    " \n",
    " X 1*2 + W2*4 + B1*4 = Y1*4\n",
    " \n",
    "model.add(Dense(4, activation = 'relu'))\n",
    " X 1*4 + W4*4 + B1*4 = Y1*4\n",
    " \n",
    "model.add(Dense(1, activation = 'softmax'))\n",
    " X 1*4 + W4*1 + B1*1 = Y1*1"
   ]
  },
  {
   "cell_type": "markdown",
   "metadata": {},
   "source": [
    "역전파 : 결과값을 통해서 다시 역으로 input 방향으로 오차를 다시 보내면서 가중치를 업데이트 하는 것이다.\n",
    "         input이 들어오는 방향(순방향)으로 outlayer에서 결과값이 나오는 것을 확인 할 수 있다.\n",
    "         결과값은 오차(error)를 가지게 되는 데 역전파는 이 오차를 다시 역방향으로 hidden layer로 오차를 다시 보내면서 가중치를\n",
    "         계산하면서 output에서 발생했던 오차를 적용시킨다.\n",
    "         \n",
    "         error = Output(i) * (1 - Output(i)) * (Target(i) - Output(i))\n",
    "         한번 돌리게 되면 1 Epoch 되었다. 라고 하며 Epoch를 늘릴수록 가중치가 계속 업데이트(학습) 되면서 오차가 점점 줄어든다.\n",
    "         \n",
    "목적함수 I은 출력값이 작은 같은 각 매개변수를 찾아서 매개변수의 업데이트된 량을 구하려고 한다.\n",
    "함수의 기울기만으로 계산되면서 가야 한다. 함수의 모든 기울기를 곱한다.\n",
    "\n",
    "빨간색으로 출력측에서 입력측으로 감녀서 순전파하고는 다르게 역으로 가면서 함수에 입력에 대한 기울기를 곱해 나가면서\n",
    "매개변수에 대한 목적함수의 기울기가 계산된다.\n",
    "\n",
    "* 미분의 연쇄 규칙의 구조를 이용해서 신경망을 구하는 함수 있는 구조이다.\n",
    "  신경망을 구하는 함수의 구조는 매개변수에 대한 목적함수의 기울기를 차례로 전파하면서 지나간 경로를\n",
    "  반대 방향으로 진해되게 한다.\n",
    "  진행중 함수의 기울기 곱셈에 의해 요구되는 알고리즘을 오차 역 전파 방법(error back propagation)이라고 한다."
   ]
  },
  {
   "cell_type": "code",
   "execution_count": null,
   "metadata": {},
   "outputs": [],
   "source": []
  }
 ],
 "metadata": {
  "kernelspec": {
   "display_name": "Python 3",
   "language": "python",
   "name": "python3"
  },
  "language_info": {
   "codemirror_mode": {
    "name": "ipython",
    "version": 3
   },
   "file_extension": ".py",
   "mimetype": "text/x-python",
   "name": "python",
   "nbconvert_exporter": "python",
   "pygments_lexer": "ipython3",
   "version": "3.8.5"
  }
 },
 "nbformat": 4,
 "nbformat_minor": 4
}
