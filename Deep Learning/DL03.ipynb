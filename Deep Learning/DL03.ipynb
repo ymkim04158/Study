{
 "cells": [
  {
   "cell_type": "code",
   "execution_count": null,
   "metadata": {},
   "outputs": [],
   "source": [
    "1.MNIST(Modified National Institute of Standards and Technology database)\n",
    "0~9까지의 숫자를 사람들이 손으로 직접 쓴 손글씨를 이미지화 한 데이터 셋\n",
    "\n",
    "2. fashion mnist : 의류 분류 데이터 셋"
   ]
  },
  {
   "cell_type": "code",
   "execution_count": 3,
   "metadata": {},
   "outputs": [],
   "source": [
    "from tensorboardX import SummaryWriter\n",
    "from datetime import datetime\n",
    "from packaging import version\n",
    "\n",
    "#간단한 모델 컴파일 해보자.\n",
    "import numpy as np\n",
    "from keras.layers import Input, Dense, Activation, Dropout, LSTM\n",
    "from keras.models import *\n",
    "import keras\n",
    "\n",
    "from tensorflow import keras\n",
    "import numpy as np"
   ]
  },
  {
   "cell_type": "code",
   "execution_count": 4,
   "metadata": {},
   "outputs": [
    {
     "name": "stdout",
     "output_type": "stream",
     "text": [
      "Downloading data from https://storage.googleapis.com/tensorflow/tf-keras-datasets/train-labels-idx1-ubyte.gz\n",
      "32768/29515 [=================================] - 0s 0us/step\n",
      "Downloading data from https://storage.googleapis.com/tensorflow/tf-keras-datasets/train-images-idx3-ubyte.gz\n",
      "26427392/26421880 [==============================] - 2s 0us/step\n",
      "Downloading data from https://storage.googleapis.com/tensorflow/tf-keras-datasets/t10k-labels-idx1-ubyte.gz\n",
      "8192/5148 [===============================================] - 0s 0us/step\n",
      "Downloading data from https://storage.googleapis.com/tensorflow/tf-keras-datasets/t10k-images-idx3-ubyte.gz\n",
      "4423680/4422102 [==============================] - 0s 0us/step\n"
     ]
    }
   ],
   "source": [
    "#1. 데이터 로드\n",
    "fashion_mnist = keras.datasets.fashion_mnist\n",
    "(train_images,train_labels),(test_images,test_labels) = fashion_mnist.load_data()\n",
    "#"
   ]
  },
  {
   "cell_type": "code",
   "execution_count": 5,
   "metadata": {},
   "outputs": [],
   "source": [
    "#2. 로드된 데이터에 담을 속성을 지정 한다.\n",
    "class_names = ['T-shirt/top','Trouser','Pullover','Dress','Coat','Sandal','Shirt','Sneaker','Bag','Ankle boot']"
   ]
  },
  {
   "cell_type": "markdown",
   "metadata": {},
   "source": [
    "3. 값의 범위를 0~255 까지로 지정된 이미지를 조정한다.\n",
    "data를 255로 나누게 되면 0~1 까지의 실수값은 전환된다."
   ]
  },
  {
   "cell_type": "code",
   "execution_count": 6,
   "metadata": {},
   "outputs": [],
   "source": [
    "#3. 값조정 한다.\n",
    "train_images = train_images / 255.0\n",
    "test_images = test_images / 255.0"
   ]
  },
  {
   "cell_type": "code",
   "execution_count": null,
   "metadata": {},
   "outputs": [],
   "source": [
    "28 by 28로 이루어진 배열 데이터를 Flatten을 사용해서 1차원의 값(784개)로 변형하고,\n",
    "relu 활성화 함수로 이루어진, 128개의 노드 신경망을 만들어서 계산하고\n",
    "최종 10개의 레이블을 가진 값으로 출력 레이어를 생성하자.\n",
    "output layer는 0~9 값의 확률"
   ]
  },
  {
   "cell_type": "code",
   "execution_count": 7,
   "metadata": {},
   "outputs": [],
   "source": [
    "#4. 모델 구성\n",
    "model = keras.Sequential([\n",
    "    keras.layers.Flatten(input_shape=(28,28)),  # 2차원값을 1차원 배열의 값으로 변경\n",
    "    keras.layers.Dense(128, activation = 'relu'),  # relu활성화 함수를 사용 128개의 신경망층 \n",
    "    keras.layers.Dense(10, activation = 'softmax'),  # 10개의 레이블 값을 가진 output layer, softmax 확률추론\n",
    "])"
   ]
  },
  {
   "cell_type": "markdown",
   "metadata": {},
   "source": [
    "컴파일 : 옵티마이저 adam / 손실함수 sparse_categorical_crossentropy를 사용해서 컴파일\n",
    "         metrics = accuracy 를 지표로 삼는다."
   ]
  },
  {
   "cell_type": "code",
   "execution_count": 8,
   "metadata": {},
   "outputs": [],
   "source": [
    "#5. 컴파일\n",
    "model.compile(optimizer = 'adam', loss = 'sparse_categorical_crossentropy',metrics = ['accuracy'])"
   ]
  },
  {
   "cell_type": "code",
   "execution_count": 9,
   "metadata": {},
   "outputs": [
    {
     "name": "stdout",
     "output_type": "stream",
     "text": [
      "Epoch 1/5\n",
      "1875/1875 [==============================] - 2s 940us/step - loss: 0.6429 - accuracy: 0.7763\n",
      "Epoch 2/5\n",
      "1875/1875 [==============================] - 2s 852us/step - loss: 0.3871 - accuracy: 0.8589\n",
      "Epoch 3/5\n",
      "1875/1875 [==============================] - 2s 859us/step - loss: 0.3406 - accuracy: 0.8767\n",
      "Epoch 4/5\n",
      "1875/1875 [==============================] - 2s 866us/step - loss: 0.3172 - accuracy: 0.8834\n",
      "Epoch 5/5\n",
      "1875/1875 [==============================] - 2s 865us/step - loss: 0.2969 - accuracy: 0.8907\n"
     ]
    },
    {
     "data": {
      "text/plain": [
       "<tensorflow.python.keras.callbacks.History at 0x220fa7724f0>"
      ]
     },
     "execution_count": 9,
     "metadata": {},
     "output_type": "execute_result"
    }
   ],
   "source": [
    "#6. 데이터 훈련단계 : fit() 학습이미지데이터, 레이블된 데이터 5번 반복 학습\n",
    "#모델은 이미지와 레이블을 맵핑\n",
    "model.fit(train_images, train_labels, epochs =5)"
   ]
  },
  {
   "cell_type": "markdown",
   "metadata": {},
   "source": [
    "7. 모델평가\n",
    "학습모델에 test데이터셋을 넣어서 train과 test의 성능차이를 측정해 본다.\n",
    "train에 over-fitting이 될 수 있기 때문에 결과를 test 데이터를 넣은\n",
    "evaluate()를 사용해서 평가한다."
   ]
  },
  {
   "cell_type": "code",
   "execution_count": 11,
   "metadata": {},
   "outputs": [
    {
     "name": "stdout",
     "output_type": "stream",
     "text": [
      "313/313 - 0s - loss: 0.3710 - accuracy: 0.8686\n",
      "test accuracy :  0.8686000108718872\n"
     ]
    }
   ],
   "source": [
    "test_loss, test_acc = model.evaluate(test_images, test_labels, verbose = 2)\n",
    "print(\"test accuracy : \", test_acc)\n",
    "#테스트 데이터를 모델에 넣었을 때 86~87% 정도의 정확도를 보여 준다."
   ]
  },
  {
   "cell_type": "markdown",
   "metadata": {},
   "source": [
    "8. 분류 예측하기 모델을 성공적으로 만들었다고 판단, 실제 각각의 데이터를 호출한 후\n",
    "분류를 어떻게 하고 있는지 확인한다.\n",
    "0번째 데이터의 레이블별 예측 결과와 실제 데이터와 예측한 데이터를 호출한다.\n",
    "predictions는 해당 데이터의 모든 레이블값의 확률을 출력하기 때문에 argmax를\n",
    "사용하여 가장 높은 index값을 리턴한다."
   ]
  },
  {
   "cell_type": "code",
   "execution_count": 14,
   "metadata": {},
   "outputs": [
    {
     "name": "stdout",
     "output_type": "stream",
     "text": [
      "[1.2504734e-04 4.9904861e-06 2.2266166e-05 1.8214122e-06 3.5408662e-05\n",
      " 4.5260627e-02 2.2974756e-04 1.8256752e-01 8.4224989e-04 7.7091032e-01]\n",
      "Ankle boot ===> Ankle boot\n"
     ]
    }
   ],
   "source": [
    "#8. 예측 생성\n",
    "predictions = model.predict(test_images)  # 예측값 생성\n",
    "print(predictions[0])\n",
    "print(class_names[test_labels[0]],'===>', class_names[np.argmax(predictions[0])])\n"
   ]
  },
  {
   "cell_type": "code",
   "execution_count": 15,
   "metadata": {},
   "outputs": [
    {
     "name": "stdout",
     "output_type": "stream",
     "text": [
      "Ankle boot ===> Ankle boot\n",
      "Pullover ===> Pullover\n",
      "Trouser ===> Trouser\n",
      "Trouser ===> Trouser\n",
      "Shirt ===> Shirt\n",
      "Trouser ===> Trouser\n",
      "Coat ===> Coat\n",
      "Shirt ===> Shirt\n",
      "Sandal ===> Sandal\n",
      "Sneaker ===> Sneaker\n",
      "Coat ===> Coat\n",
      "Sandal ===> Sandal\n",
      "Sneaker ===> Sandal\n",
      "Dress ===> Dress\n",
      "Coat ===> Coat\n",
      "Trouser ===> Trouser\n",
      "Pullover ===> Pullover\n",
      "Coat ===> Pullover\n",
      "Bag ===> Bag\n",
      "T-shirt/top ===> T-shirt/top\n",
      "Pullover ===> Pullover\n",
      "Sandal ===> Sandal\n",
      "Sneaker ===> Sneaker\n",
      "Ankle boot ===> Sandal\n",
      "Trouser ===> Trouser\n",
      "Coat ===> Pullover\n",
      "Shirt ===> Coat\n",
      "T-shirt/top ===> T-shirt/top\n",
      "Ankle boot ===> Ankle boot\n",
      "Dress ===> Dress\n",
      "Bag ===> Bag\n",
      "Bag ===> Bag\n",
      "Dress ===> Dress\n",
      "Dress ===> Dress\n",
      "Bag ===> Bag\n",
      "T-shirt/top ===> T-shirt/top\n",
      "Sneaker ===> Sneaker\n",
      "Sandal ===> Sandal\n",
      "Sneaker ===> Sneaker\n",
      "Ankle boot ===> Ankle boot\n",
      "Shirt ===> T-shirt/top\n",
      "Trouser ===> Trouser\n",
      "Dress ===> Shirt\n",
      "Sneaker ===> Sneaker\n",
      "Shirt ===> Coat\n",
      "Sneaker ===> Sneaker\n",
      "Pullover ===> Pullover\n",
      "Trouser ===> Trouser\n",
      "Pullover ===> Pullover\n",
      "Pullover ===> Shirt\n",
      "Coat ===> Coat\n",
      "Coat ===> Pullover\n",
      "Sandal ===> Sandal\n",
      "Bag ===> Bag\n",
      "Pullover ===> Pullover\n",
      "Pullover ===> Pullover\n",
      "Bag ===> Bag\n",
      "Coat ===> Coat\n",
      "Bag ===> Bag\n",
      "T-shirt/top ===> T-shirt/top\n",
      "Sneaker ===> Sneaker\n",
      "Sneaker ===> Sneaker\n",
      "Bag ===> Bag\n",
      "Sandal ===> Sandal\n",
      "Trouser ===> Trouser\n",
      "Trouser ===> Trouser\n",
      "Pullover ===> Dress\n",
      "Dress ===> Coat\n",
      "Ankle boot ===> Sneaker\n",
      "Bag ===> Bag\n",
      "Sneaker ===> Sneaker\n",
      "T-shirt/top ===> T-shirt/top\n",
      "Pullover ===> Pullover\n",
      "Shirt ===> Shirt\n",
      "Pullover ===> Pullover\n",
      "Dress ===> Dress\n",
      "Trouser ===> Trouser\n",
      "Pullover ===> Pullover\n",
      "Bag ===> Bag\n",
      "Coat ===> Coat\n",
      "Trouser ===> Trouser\n",
      "Bag ===> Bag\n",
      "Sandal ===> Sandal\n",
      "Ankle boot ===> Ankle boot\n",
      "Sandal ===> Sandal\n",
      "T-shirt/top ===> T-shirt/top\n",
      "Dress ===> Dress\n",
      "Pullover ===> Pullover\n",
      "T-shirt/top ===> T-shirt/top\n",
      "Shirt ===> Pullover\n",
      "Sandal ===> Sandal\n",
      "Dress ===> Dress\n",
      "Shirt ===> Shirt\n",
      "Sneaker ===> Sneaker\n",
      "Trouser ===> Trouser\n",
      "Bag ===> Bag\n",
      "T-shirt/top ===> T-shirt/top\n",
      "Trouser ===> Trouser\n",
      "Coat ===> Coat\n",
      "Pullover ===> Pullover\n"
     ]
    }
   ],
   "source": [
    "#100개의 데이터를 호출해서 결과의 예측 률을 보자\n",
    "for i in range(0,100):\n",
    "    print(class_names[test_labels[i]],'===>', class_names[np.argmax(predictions[i])])"
   ]
  }
 ],
 "metadata": {
  "kernelspec": {
   "display_name": "Python 3",
   "language": "python",
   "name": "python3"
  },
  "language_info": {
   "codemirror_mode": {
    "name": "ipython",
    "version": 3
   },
   "file_extension": ".py",
   "mimetype": "text/x-python",
   "name": "python",
   "nbconvert_exporter": "python",
   "pygments_lexer": "ipython3",
   "version": "3.8.5"
  }
 },
 "nbformat": 4,
 "nbformat_minor": 4
}
