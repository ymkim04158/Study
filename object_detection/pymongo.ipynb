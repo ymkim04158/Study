{
  "nbformat": 4,
  "nbformat_minor": 0,
  "metadata": {
    "colab": {
      "name": "pymongo.ipynb",
      "private_outputs": true,
      "provenance": [],
      "toc_visible": true
    },
    "kernelspec": {
      "name": "python3",
      "display_name": "Python 3"
    },
    "language_info": {
      "name": "python"
    }
  },
  "cells": [
    {
      "cell_type": "code",
      "metadata": {
        "id": "ear5WlEZ0hni"
      },
      "source": [
        "!pip install pymongo"
      ],
      "execution_count": null,
      "outputs": []
    },
    {
      "cell_type": "code",
      "metadata": {
        "id": "kIaYJOKarFj3"
      },
      "source": [
        "from pymongo import MongoClient\n",
        "import gridfs\n",
        "import cv2\n",
        "import numpy as np\n",
        "import os\n",
        "from glob import glob\n",
        "import urllib"
      ],
      "execution_count": null,
      "outputs": []
    },
    {
      "cell_type": "code",
      "metadata": {
        "id": "sgEW_64y0uhe"
      },
      "source": [
        "#MongoDB 연동\n",
        "mongo_uri = \"mongodb://\" + urllib.parse.quote_plus(\"아이디\") + \":\" + urllib.parse.quote_plus(\"비밀번호\") + \"@ip:27017/\"\n",
        "client = MongoClient(mongo_uri)\n",
        "db = client['imagedb']\n",
        "fs = gridfs.GridFS(db)"
      ],
      "execution_count": null,
      "outputs": []
    },
    {
      "cell_type": "code",
      "metadata": {
        "id": "mZt3WW_9EMox"
      },
      "source": [
        "#차종,브랜드 리스트 정의\n",
        "kind_list = ['hatchback', 'sedan','sportscar','suv']\n",
        "maker_list = ['audi', 'bentley','benz','bmw','chevrolet','chrysler','ferrari','ford', 'hyundai', 'kia', 'lamborghini', 'landrover', 'mini', 'nissan', 'porsche', 'ssangyong', 'toyota', 'volkswagen']"
      ],
      "execution_count": null,
      "outputs": []
    },
    {
      "cell_type": "code",
      "metadata": {
        "id": "XS6O2NwyHYYV"
      },
      "source": [
        "#MongoDB에 데이터 insert\n",
        "for i in range(4):\n",
        "    Collection = db[kind_list[i]]\n",
        "\n",
        "    for j in [0,1,2,3,5,6,8,9,14,17]:\n",
        "        img_list = glob('/저장경로/'+str(i)+'/'+str(j)+'/*.png')\n",
        "\n",
        "        cnt = 0\n",
        "\n",
        "        for img_file in img_list:\n",
        "\n",
        "            # 이미지 불러와 RGB로\n",
        "            image = cv2.imread(img_file)\n",
        "            image = cv2.cvtColor(image, cv2.COLOR_BGR2RGB)\n",
        "\n",
        "            # ndarray를 string으로 변환\n",
        "            imageString = image.tostring()\n",
        "\n",
        "            # 이미지 저장\n",
        "            imageID = fs.put(imageString, encoding='utf-8')\n",
        "\n",
        "            maker = maker_list[j]\n",
        "            name = maker + str(cnt)\n",
        "            cnt += 1\n",
        "\n",
        "            # 이미지 메타데이터 생성\n",
        "            meta = {\n",
        "                'name': name,\n",
        "                'maker' : maker,\n",
        "                'images': [\n",
        "                    {\n",
        "                        'imageID': imageID,\n",
        "                        'shape': image.shape,\n",
        "                        'dtype': str(image.dtype)\n",
        "                    }\n",
        "                ]\n",
        "            }\n",
        "\n",
        "            # 메타 데이터 insert\n",
        "            Collection.insert_one(meta)"
      ],
      "execution_count": null,
      "outputs": []
    },
    {
      "cell_type": "code",
      "metadata": {
        "id": "QoP_HlR_teXk"
      },
      "source": [
        "#mongoDB 연동하여 이미지 호출\n",
        "# 이미지 메타데이터 호출\n",
        "image = collection.find_one({'maker': 'benz'})['images'][0]\n",
        "\n",
        "# gridfs로 이미지 get\n",
        "gOut = fs.get(image['imageID'])\n",
        "\n",
        "# ndarray로 변환\n",
        "img = np.frombuffer(gOut.read(), dtype=np.uint8)\n",
        "\n",
        "# 이미지 사이즈 복구\n",
        "img = np.reshape(img, image['shape'])\n",
        "\n",
        "# BGR을 RGB로\n",
        "img_rgb = cv2.cvtColor(img, cv2.COLOR_BGR2RGB)"
      ],
      "execution_count": null,
      "outputs": []
    }
  ]
}