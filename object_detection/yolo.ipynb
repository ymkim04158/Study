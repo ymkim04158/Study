{
  "nbformat": 4,
  "nbformat_minor": 0,
  "metadata": {
    "colab": {
      "name": "Untitled1.ipynb",
      "private_outputs": true,
      "provenance": []
    },
    "kernelspec": {
      "name": "python3",
      "display_name": "Python 3"
    },
    "language_info": {
      "name": "python"
    }
  },
  "cells": [
    {
      "cell_type": "code",
      "metadata": {
        "id": "MEki7OaS_l24"
      },
      "source": [
        "import os\n",
        "from glob import glob\n",
        "import yaml\n",
        "import tensorflow as tf\n",
        "import shutil\n",
        "from sklearn.model_selection import train_test_split"
      ],
      "execution_count": null,
      "outputs": []
    },
    {
      "cell_type": "code",
      "metadata": {
        "id": "wLpUDQFv_sFE"
      },
      "source": [
        "#bing_image_search api를 활용하여 각 차종/브랜드 별 차량 이미지 수집\n",
        "!python bing_search_api.py --query \"Keywords\" --output 원본 데이터 경로"
      ],
      "execution_count": null,
      "outputs": []
    },
    {
      "cell_type": "code",
      "metadata": {
        "id": "NiBuwjSj_sPQ"
      },
      "source": [
        "#yolov5 pre-trained 모델을 활용하여 수집된 이미지 중 차량을 포함한 이미지만 차량이 있는 부분을 마커표시, 라벨링하여 텍스트 파일로 저장\n",
        "# yolo detect.py 파일 일부 수정\n",
        "!python detect.py --source 원본 데이터 경로 --weights yolov5s.pt --conf 0.25"
      ],
      "execution_count": null,
      "outputs": []
    },
    {
      "cell_type": "code",
      "metadata": {
        "id": "vgjS0TH0_sWu"
      },
      "source": [
        "#이미지에 차량이 포함되지 않아 이미지 파일이 생성되지 않은 이미지 파일 제거\n",
        "txt_list = glob('/원본 데이터 경로/*.txt')\n",
        "img_list = glob('/원본 데이터 경로/*')\n",
        "\n",
        "txt_name_list = list(map(lambda i: i[i.rfind(\"/\") + 1 : -4], txt_list)\n",
        "img_name_list = list(map(lambda i: i[i.rfind(\"/\") + 1 : -4], img_list)\n",
        "\n",
        "for idx, img_file in enumerate(img_list):\n",
        "    if img_file not in txt_list:\n",
        "        os.remove(img_list[idx])\n",
        "\n",
        "# train/test data 분리\n",
        "data_img_list = glob('/원본 데이터 경로/*.png') + glob('/원본 데이터 경로/*.jpg')\n",
        "\n",
        "train_img_list, val_img_list = train_test_split(img_list, test_size = 0.2, random_state = 2000)\n",
        "\n",
        "#이미지 데이터 경로 텍스트 파일로 저장\n",
        "with open('/데이터 경로/train.txt', 'w') as f:\n",
        "    f.write('\\n'.join(train_img_list) + '\\n')\n",
        "\n",
        "with open('/데이터 경로/val.txt', 'w') as f:\n",
        "    f.write('\\n'.join(val_img_list) + '\\n')\n",
        "\n",
        "#yaml 파일 수정\n",
        "with open('/데이터 경로/mydata.yaml','r') as f:\n",
        "    data = yaml.load(f)\n",
        "\n",
        "data['train'] = '/데이터 경로/train.txt'\n",
        "data['val'] = '/데이터 경로/val.txt'\n",
        "data['names'] : [라벨 목록]\n",
        "\n",
        "with open('/content/drive/MyDrive/yolov5/dataset/data.yaml','w') as f:\n",
        "    yaml.dump(data, f)"
      ],
      "execution_count": null,
      "outputs": []
    },
    {
      "cell_type": "code",
      "metadata": {
        "id": "FdqtSO4i_saX"
      },
      "source": [
        "!python train.py --img 512 --batch 16 --epoch 100 --data /데이터 경로/mydata.yaml --name 모델명"
      ],
      "execution_count": null,
      "outputs": []
    },
    {
      "cell_type": "code",
      "metadata": {
        "id": "Tu9i9unqAGKg"
      },
      "source": [
        "#stylegan2-ada로 생성한 차량 디자인 이미지 파일을 classification 하여 텍스트 파일(car_kinds.txt, car_brands.txt)에 파일명, 차종, 브랜드를 저장\n",
        "#yolo detect.py 파일 일부 수정\n",
        "!python detect.py --source 생성한 이미지 데이터 경로 --weights 차종분류모델.pt --conf 0.25\n",
        "!python detect.py --source 생성한 이미지 데이터 경로 --weights 브랜드분류모델.pt --conf 0.25"
      ],
      "execution_count": null,
      "outputs": []
    },
    {
      "cell_type": "code",
      "metadata": {
        "id": "Gq3bRj9wAGTl"
      },
      "source": [
        "#분류된 이미지파일을 폴더별로 이동\n",
        "brands = {}\n",
        "\n",
        "f_brand = open(\"/데이터 경로/car_brands.txt\", 'r')\n",
        "\n",
        "name_brands = f_brand.readlines()\n",
        "\n",
        "for name_brand in name_brands:\n",
        "    file_name, brands = line.split(\",\")\n",
        "    brands.update({file_name:brands})\n",
        "\n",
        "f_brand.close()\n",
        "\n",
        "f_kind = open(\"/데이터 경로/car_kinds.txt\", 'r')\n",
        "\n",
        "name_kinds = f_kind.readlines()\n",
        "\n",
        "for name_kind in name_kinds:\n",
        "    file_name, kinds = line.split(\",\")\n",
        "    shutil.move(\"/저장경로/\" + file_name, \"/저장경로/\"+ kinds + \"/\" + brands[file_name] + \"/\" + file_name)\n",
        "\n",
        "f_kind.close()"
      ],
      "execution_count": null,
      "outputs": []
    }
  ]
}
